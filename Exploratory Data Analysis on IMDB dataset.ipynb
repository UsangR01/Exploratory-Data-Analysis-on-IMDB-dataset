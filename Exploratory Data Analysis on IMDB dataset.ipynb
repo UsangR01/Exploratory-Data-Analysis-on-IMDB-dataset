{
 "cells": [
  {
   "cell_type": "markdown",
   "metadata": {},
   "source": [
    "# Report 1 (mid-semester) - Exploratory Data Analysis on IMDB dataset"
   ]
  },
  {
   "cell_type": "markdown",
   "metadata": {},
   "source": [
    "Project contains: **Data cleaning || EDA || Hypotheses testing (on the overall aim) || Actionable recommendations based on this analysis**"
   ]
  },
  {
   "cell_type": "code",
   "execution_count": 1,
   "metadata": {},
   "outputs": [],
   "source": [
    "#standard imports for when working with pandas\n",
    "import numpy as np\n",
    "\n",
    "from matplotlib import pyplot as plt\n",
    "import pandas as pd\n",
    "import seaborn as sns\n",
    "\n",
    "from pylab import rcParams\n",
    "import scipy\n",
    "from scipy.stats.stats import pearsonr\n",
    "from scipy.stats import spearmanr\n",
    "\n",
    "%matplotlib inline\n",
    "# rcParams['figure.figsize'] = 12,5\n",
    "plt.style.use('seaborn-whitegrid')"
   ]
  },
  {
   "cell_type": "code",
   "execution_count": 2,
   "metadata": {},
   "outputs": [
    {
     "data": {
      "text/html": [
       "<div>\n",
       "<style scoped>\n",
       "    .dataframe tbody tr th:only-of-type {\n",
       "        vertical-align: middle;\n",
       "    }\n",
       "\n",
       "    .dataframe tbody tr th {\n",
       "        vertical-align: top;\n",
       "    }\n",
       "\n",
       "    .dataframe thead th {\n",
       "        text-align: right;\n",
       "    }\n",
       "</style>\n",
       "<table border=\"1\" class=\"dataframe\">\n",
       "  <thead>\n",
       "    <tr style=\"text-align: right;\">\n",
       "      <th></th>\n",
       "      <th>color</th>\n",
       "      <th>director_name</th>\n",
       "      <th>num_critic_for_reviews</th>\n",
       "      <th>duration</th>\n",
       "      <th>director_facebook_likes</th>\n",
       "      <th>actor_3_facebook_likes</th>\n",
       "      <th>actor_2_name</th>\n",
       "      <th>actor_1_facebook_likes</th>\n",
       "      <th>gross</th>\n",
       "      <th>genres</th>\n",
       "      <th>...</th>\n",
       "      <th>num_user_for_reviews</th>\n",
       "      <th>language</th>\n",
       "      <th>country</th>\n",
       "      <th>content_rating</th>\n",
       "      <th>budget</th>\n",
       "      <th>title_year</th>\n",
       "      <th>actor_2_facebook_likes</th>\n",
       "      <th>imdb_score</th>\n",
       "      <th>aspect_ratio</th>\n",
       "      <th>movie_facebook_likes</th>\n",
       "    </tr>\n",
       "  </thead>\n",
       "  <tbody>\n",
       "    <tr>\n",
       "      <th>0</th>\n",
       "      <td>Color</td>\n",
       "      <td>James Cameron</td>\n",
       "      <td>723.0</td>\n",
       "      <td>178.0</td>\n",
       "      <td>0.0</td>\n",
       "      <td>855.0</td>\n",
       "      <td>Joel David Moore</td>\n",
       "      <td>1000.0</td>\n",
       "      <td>760505847.0</td>\n",
       "      <td>Action|Adventure|Fantasy|Sci-Fi</td>\n",
       "      <td>...</td>\n",
       "      <td>3054.0</td>\n",
       "      <td>English</td>\n",
       "      <td>USA</td>\n",
       "      <td>PG-13</td>\n",
       "      <td>237000000.0</td>\n",
       "      <td>2009.0</td>\n",
       "      <td>936.0</td>\n",
       "      <td>7.9</td>\n",
       "      <td>1.78</td>\n",
       "      <td>33000</td>\n",
       "    </tr>\n",
       "    <tr>\n",
       "      <th>1</th>\n",
       "      <td>Color</td>\n",
       "      <td>Gore Verbinski</td>\n",
       "      <td>302.0</td>\n",
       "      <td>169.0</td>\n",
       "      <td>563.0</td>\n",
       "      <td>1000.0</td>\n",
       "      <td>Orlando Bloom</td>\n",
       "      <td>40000.0</td>\n",
       "      <td>309404152.0</td>\n",
       "      <td>Action|Adventure|Fantasy</td>\n",
       "      <td>...</td>\n",
       "      <td>1238.0</td>\n",
       "      <td>English</td>\n",
       "      <td>USA</td>\n",
       "      <td>PG-13</td>\n",
       "      <td>300000000.0</td>\n",
       "      <td>2007.0</td>\n",
       "      <td>5000.0</td>\n",
       "      <td>7.1</td>\n",
       "      <td>2.35</td>\n",
       "      <td>0</td>\n",
       "    </tr>\n",
       "    <tr>\n",
       "      <th>2</th>\n",
       "      <td>Color</td>\n",
       "      <td>Sam Mendes</td>\n",
       "      <td>602.0</td>\n",
       "      <td>148.0</td>\n",
       "      <td>0.0</td>\n",
       "      <td>161.0</td>\n",
       "      <td>Rory Kinnear</td>\n",
       "      <td>11000.0</td>\n",
       "      <td>200074175.0</td>\n",
       "      <td>Action|Adventure|Thriller</td>\n",
       "      <td>...</td>\n",
       "      <td>994.0</td>\n",
       "      <td>English</td>\n",
       "      <td>UK</td>\n",
       "      <td>PG-13</td>\n",
       "      <td>245000000.0</td>\n",
       "      <td>2015.0</td>\n",
       "      <td>393.0</td>\n",
       "      <td>6.8</td>\n",
       "      <td>2.35</td>\n",
       "      <td>85000</td>\n",
       "    </tr>\n",
       "    <tr>\n",
       "      <th>3</th>\n",
       "      <td>Color</td>\n",
       "      <td>Christopher Nolan</td>\n",
       "      <td>813.0</td>\n",
       "      <td>164.0</td>\n",
       "      <td>22000.0</td>\n",
       "      <td>23000.0</td>\n",
       "      <td>Christian Bale</td>\n",
       "      <td>27000.0</td>\n",
       "      <td>448130642.0</td>\n",
       "      <td>Action|Thriller</td>\n",
       "      <td>...</td>\n",
       "      <td>2701.0</td>\n",
       "      <td>English</td>\n",
       "      <td>USA</td>\n",
       "      <td>PG-13</td>\n",
       "      <td>250000000.0</td>\n",
       "      <td>2012.0</td>\n",
       "      <td>23000.0</td>\n",
       "      <td>8.5</td>\n",
       "      <td>2.35</td>\n",
       "      <td>164000</td>\n",
       "    </tr>\n",
       "    <tr>\n",
       "      <th>4</th>\n",
       "      <td>NaN</td>\n",
       "      <td>Doug Walker</td>\n",
       "      <td>NaN</td>\n",
       "      <td>NaN</td>\n",
       "      <td>131.0</td>\n",
       "      <td>NaN</td>\n",
       "      <td>Rob Walker</td>\n",
       "      <td>131.0</td>\n",
       "      <td>NaN</td>\n",
       "      <td>Documentary</td>\n",
       "      <td>...</td>\n",
       "      <td>NaN</td>\n",
       "      <td>NaN</td>\n",
       "      <td>NaN</td>\n",
       "      <td>NaN</td>\n",
       "      <td>NaN</td>\n",
       "      <td>NaN</td>\n",
       "      <td>12.0</td>\n",
       "      <td>7.1</td>\n",
       "      <td>NaN</td>\n",
       "      <td>0</td>\n",
       "    </tr>\n",
       "  </tbody>\n",
       "</table>\n",
       "<p>5 rows × 28 columns</p>\n",
       "</div>"
      ],
      "text/plain": [
       "   color      director_name  num_critic_for_reviews  duration  \\\n",
       "0  Color      James Cameron                   723.0     178.0   \n",
       "1  Color     Gore Verbinski                   302.0     169.0   \n",
       "2  Color         Sam Mendes                   602.0     148.0   \n",
       "3  Color  Christopher Nolan                   813.0     164.0   \n",
       "4    NaN        Doug Walker                     NaN       NaN   \n",
       "\n",
       "   director_facebook_likes  actor_3_facebook_likes      actor_2_name  \\\n",
       "0                      0.0                   855.0  Joel David Moore   \n",
       "1                    563.0                  1000.0     Orlando Bloom   \n",
       "2                      0.0                   161.0      Rory Kinnear   \n",
       "3                  22000.0                 23000.0    Christian Bale   \n",
       "4                    131.0                     NaN        Rob Walker   \n",
       "\n",
       "   actor_1_facebook_likes        gross                           genres  ...  \\\n",
       "0                  1000.0  760505847.0  Action|Adventure|Fantasy|Sci-Fi  ...   \n",
       "1                 40000.0  309404152.0         Action|Adventure|Fantasy  ...   \n",
       "2                 11000.0  200074175.0        Action|Adventure|Thriller  ...   \n",
       "3                 27000.0  448130642.0                  Action|Thriller  ...   \n",
       "4                   131.0          NaN                      Documentary  ...   \n",
       "\n",
       "  num_user_for_reviews language  country  content_rating       budget  \\\n",
       "0               3054.0  English      USA           PG-13  237000000.0   \n",
       "1               1238.0  English      USA           PG-13  300000000.0   \n",
       "2                994.0  English       UK           PG-13  245000000.0   \n",
       "3               2701.0  English      USA           PG-13  250000000.0   \n",
       "4                  NaN      NaN      NaN             NaN          NaN   \n",
       "\n",
       "   title_year actor_2_facebook_likes imdb_score  aspect_ratio  \\\n",
       "0      2009.0                  936.0        7.9          1.78   \n",
       "1      2007.0                 5000.0        7.1          2.35   \n",
       "2      2015.0                  393.0        6.8          2.35   \n",
       "3      2012.0                23000.0        8.5          2.35   \n",
       "4         NaN                   12.0        7.1           NaN   \n",
       "\n",
       "  movie_facebook_likes  \n",
       "0                33000  \n",
       "1                    0  \n",
       "2                85000  \n",
       "3               164000  \n",
       "4                    0  \n",
       "\n",
       "[5 rows x 28 columns]"
      ]
     },
     "execution_count": 2,
     "metadata": {},
     "output_type": "execute_result"
    }
   ],
   "source": [
    "#Loading The Dataset\n",
    "myfile = 'movie_metadata.csv'\n",
    "#read the movie metadata file into a dataframe in pandas\n",
    "df_raw = pd.read_csv(myfile,index_col=None)\n",
    "#To display first 5 rows of our dataframe\n",
    "df_raw.head()"
   ]
  },
  {
   "cell_type": "markdown",
   "metadata": {},
   "source": [
    "### 1.0 Data preparation and cleaning (fix, replace, drop) of values"
   ]
  },
  {
   "cell_type": "code",
   "execution_count": 3,
   "metadata": {},
   "outputs": [
    {
     "data": {
      "text/plain": [
       "(5043, 28)"
      ]
     },
     "execution_count": 3,
     "metadata": {},
     "output_type": "execute_result"
    }
   ],
   "source": [
    "# To see the dimensionality of the dataframe\n",
    "df_raw.shape"
   ]
  },
  {
   "cell_type": "code",
   "execution_count": 4,
   "metadata": {},
   "outputs": [
    {
     "name": "stdout",
     "output_type": "stream",
     "text": [
      "<class 'pandas.core.frame.DataFrame'>\n",
      "RangeIndex: 5043 entries, 0 to 5042\n",
      "Data columns (total 28 columns):\n",
      " #   Column                     Non-Null Count  Dtype  \n",
      "---  ------                     --------------  -----  \n",
      " 0   color                      5024 non-null   object \n",
      " 1   director_name              4939 non-null   object \n",
      " 2   num_critic_for_reviews     4993 non-null   float64\n",
      " 3   duration                   5028 non-null   float64\n",
      " 4   director_facebook_likes    4939 non-null   float64\n",
      " 5   actor_3_facebook_likes     5020 non-null   float64\n",
      " 6   actor_2_name               5030 non-null   object \n",
      " 7   actor_1_facebook_likes     5036 non-null   float64\n",
      " 8   gross                      4159 non-null   float64\n",
      " 9   genres                     5043 non-null   object \n",
      " 10  actor_1_name               5036 non-null   object \n",
      " 11  movie_title                5043 non-null   object \n",
      " 12  num_voted_users            5043 non-null   int64  \n",
      " 13  cast_total_facebook_likes  5043 non-null   int64  \n",
      " 14  actor_3_name               5020 non-null   object \n",
      " 15  facenumber_in_poster       5030 non-null   float64\n",
      " 16  plot_keywords              4890 non-null   object \n",
      " 17  movie_imdb_link            5043 non-null   object \n",
      " 18  num_user_for_reviews       5022 non-null   float64\n",
      " 19  language                   5031 non-null   object \n",
      " 20  country                    5038 non-null   object \n",
      " 21  content_rating             4740 non-null   object \n",
      " 22  budget                     4551 non-null   float64\n",
      " 23  title_year                 4935 non-null   float64\n",
      " 24  actor_2_facebook_likes     5030 non-null   float64\n",
      " 25  imdb_score                 5043 non-null   float64\n",
      " 26  aspect_ratio               4714 non-null   float64\n",
      " 27  movie_facebook_likes       5043 non-null   int64  \n",
      "dtypes: float64(13), int64(3), object(12)\n",
      "memory usage: 1.1+ MB\n"
     ]
    }
   ],
   "source": [
    "# Inspect dataframe for variable type\n",
    "df_raw.info()"
   ]
  },
  {
   "cell_type": "markdown",
   "metadata": {},
   "source": [
    "#### 1.1 Visualizing missing values in the dataset"
   ]
  },
  {
   "cell_type": "code",
   "execution_count": 5,
   "metadata": {},
   "outputs": [
    {
     "data": {
      "image/png": "[encoded data removed]",
      "text/plain": [
       "<Figure size 432x288 with 2 Axes>"
      ]
     },
     "metadata": {},
     "output_type": "display_data"
    }
   ],
   "source": [
    "sns.heatmap(df_raw.isnull())\n",
    "plt.show()"
   ]
  },
  {
   "cell_type": "markdown",
   "metadata": {},
   "source": [
    "The heatmap shows a high number of missing values particularly in the 'gross' and 'budget' columns"
   ]
  },
  {
   "cell_type": "markdown",
   "metadata": {},
   "source": [
    "#### 1.2 Dropping unused columns, Dropping null / empty entries and Replacing empty entries"
   ]
  },
  {
   "cell_type": "code",
   "execution_count": 6,
   "metadata": {},
   "outputs": [],
   "source": [
    "#Dropping columns\n",
    "df=df_raw.drop(['facenumber_in_poster', 'plot_keywords','movie_imdb_link', 'director_facebook_likes', \n",
    "            'aspect_ratio', 'color', 'content_rating', 'cast_total_facebook_likes', 'movie_facebook_likes',\n",
    "               'actor_3_facebook_likes', 'actor_2_name', 'actor_1_facebook_likes', 'actor_3_name',\n",
    "               'actor_2_facebook_likes'],axis=1)\n",
    "\n",
    "#Replace 0 to NaN\n",
    "df.replace(0,np.nan, inplace=True) "
   ]
  },
  {
   "cell_type": "code",
   "execution_count": 7,
   "metadata": {},
   "outputs": [
    {
     "data": {
      "text/plain": [
       "(5043, 14)"
      ]
     },
     "execution_count": 7,
     "metadata": {},
     "output_type": "execute_result"
    }
   ],
   "source": [
    "df.shape"
   ]
  },
  {
   "cell_type": "markdown",
   "metadata": {},
   "source": [
    "#### Checking for duplicate data"
   ]
  },
  {
   "cell_type": "code",
   "execution_count": 8,
   "metadata": {
    "scrolled": true
   },
   "outputs": [
    {
     "data": {
      "text/plain": [
       "True"
      ]
     },
     "execution_count": 8,
     "metadata": {},
     "output_type": "execute_result"
    }
   ],
   "source": [
    "duplicate_df = df.duplicated().any()\n",
    "duplicate_df"
   ]
  },
  {
   "cell_type": "code",
   "execution_count": 9,
   "metadata": {},
   "outputs": [],
   "source": [
    "# Dropping duplicates\n",
    "df=df.drop_duplicates()"
   ]
  },
  {
   "cell_type": "code",
   "execution_count": 10,
   "metadata": {},
   "outputs": [
    {
     "data": {
      "text/plain": [
       "gross                     17.47\n",
       "budget                     9.73\n",
       "title_year                 2.14\n",
       "director_name              2.06\n",
       "num_critic_for_reviews     0.98\n",
       "num_user_for_reviews       0.42\n",
       "duration                   0.30\n",
       "language                   0.24\n",
       "actor_1_name               0.14\n",
       "country                    0.10\n",
       "genres                     0.00\n",
       "movie_title                0.00\n",
       "num_voted_users            0.00\n",
       "imdb_score                 0.00\n",
       "dtype: float64"
      ]
     },
     "execution_count": 10,
     "metadata": {},
     "output_type": "execute_result"
    }
   ],
   "source": [
    "# Dropping all rows housing columns with NAN greater than 1 percent\n",
    "\n",
    "round(df.isnull().sum().sort_values(ascending=False)/len(df) * 100,2)"
   ]
  },
  {
   "cell_type": "code",
   "execution_count": 11,
   "metadata": {},
   "outputs": [],
   "source": [
    "df = df[df['gross'].notnull()]\n",
    "df = df[df['budget'].notnull()]\n",
    "df = df[df['director_name'].notnull()]\n",
    "df = df[df['title_year'].notnull()]\n",
    "df = df[df['num_critic_for_reviews'].notnull()]\n",
    "df = df[df['duration'].notnull()]"
   ]
  },
  {
   "cell_type": "markdown",
   "metadata": {},
   "source": [
    "#### Fill NAN values on the Language column"
   ]
  },
  {
   "cell_type": "code",
   "execution_count": 12,
   "metadata": {},
   "outputs": [
    {
     "data": {
      "text/plain": [
       "count        3851\n",
       "unique         38\n",
       "top       English\n",
       "freq         3671\n",
       "Name: language, dtype: object"
      ]
     },
     "execution_count": 12,
     "metadata": {},
     "output_type": "execute_result"
    }
   ],
   "source": [
    "df.language.describe()"
   ]
  },
  {
   "cell_type": "markdown",
   "metadata": {},
   "source": [
    "On inspection, it is obvious the NAN values can safely be replaced with english"
   ]
  },
  {
   "cell_type": "code",
   "execution_count": 13,
   "metadata": {},
   "outputs": [],
   "source": [
    "df.language = df.language.fillna('English')"
   ]
  },
  {
   "cell_type": "code",
   "execution_count": 14,
   "metadata": {},
   "outputs": [
    {
     "data": {
      "image/png": "[encoded data removed]",
      "text/plain": [
       "<Figure size 432x288 with 2 Axes>"
      ]
     },
     "metadata": {},
     "output_type": "display_data"
    }
   ],
   "source": [
    "sns.heatmap(df.isnull())\n",
    "plt.show()"
   ]
  },
  {
   "cell_type": "markdown",
   "metadata": {},
   "source": [
    "Heatmap for the dataframe with all null values removed"
   ]
  },
  {
   "cell_type": "code",
   "execution_count": 15,
   "metadata": {},
   "outputs": [
    {
     "data": {
      "text/plain": [
       "actor_1_name              0.08\n",
       "director_name             0.00\n",
       "num_critic_for_reviews    0.00\n",
       "duration                  0.00\n",
       "gross                     0.00\n",
       "genres                    0.00\n",
       "movie_title               0.00\n",
       "num_voted_users           0.00\n",
       "num_user_for_reviews      0.00\n",
       "language                  0.00\n",
       "country                   0.00\n",
       "budget                    0.00\n",
       "title_year                0.00\n",
       "imdb_score                0.00\n",
       "dtype: float64"
      ]
     },
     "execution_count": 15,
     "metadata": {},
     "output_type": "execute_result"
    }
   ],
   "source": [
    "#Rechecking the respective columns null percentages\n",
    "round(df.isnull().sum().sort_values(ascending=False)/len(df) * 100,2)"
   ]
  },
  {
   "cell_type": "markdown",
   "metadata": {},
   "source": [
    "#### Relabeling and reordering columns - to ensure proper spacing"
   ]
  },
  {
   "cell_type": "code",
   "execution_count": 16,
   "metadata": {},
   "outputs": [
    {
     "data": {
      "text/plain": [
       "Index(['director_name', 'num_critic_for_reviews', 'duration', 'gross',\n",
       "       'genres', 'actor_1_name', 'movie_title', 'num_voted_users',\n",
       "       'num_user_for_reviews', 'language', 'country', 'budget', 'title_year',\n",
       "       'imdb_score'],\n",
       "      dtype='object')"
      ]
     },
     "execution_count": 16,
     "metadata": {},
     "output_type": "execute_result"
    }
   ],
   "source": [
    "df.columns"
   ]
  },
  {
   "cell_type": "code",
   "execution_count": 17,
   "metadata": {},
   "outputs": [],
   "source": [
    "# Relabeling colunmn headers to eliminate bad spacing:\n",
    "df.columns = ['director_name', 'num_critic_for_reviews', 'duration', 'gross', 'genres', \n",
    "              'actor_1', 'movie_title', 'num_voted_users', 'num_user_for_reviews', \n",
    "              'language', 'country', 'budget', 'title_year', 'imdb_score']"
   ]
  },
  {
   "cell_type": "code",
   "execution_count": 18,
   "metadata": {
    "scrolled": true
   },
   "outputs": [
    {
     "data": {
      "text/html": [
       "<div>\n",
       "<style scoped>\n",
       "    .dataframe tbody tr th:only-of-type {\n",
       "        vertical-align: middle;\n",
       "    }\n",
       "\n",
       "    .dataframe tbody tr th {\n",
       "        vertical-align: top;\n",
       "    }\n",
       "\n",
       "    .dataframe thead th {\n",
       "        text-align: right;\n",
       "    }\n",
       "</style>\n",
       "<table border=\"1\" class=\"dataframe\">\n",
       "  <thead>\n",
       "    <tr style=\"text-align: right;\">\n",
       "      <th></th>\n",
       "      <th>movie_title</th>\n",
       "      <th>title_year</th>\n",
       "      <th>genres</th>\n",
       "      <th>duration</th>\n",
       "      <th>director_name</th>\n",
       "      <th>actor_1</th>\n",
       "      <th>country</th>\n",
       "      <th>budget</th>\n",
       "      <th>gross</th>\n",
       "      <th>imdb_score</th>\n",
       "      <th>language</th>\n",
       "      <th>num_voted_users</th>\n",
       "      <th>num_critic_for_reviews</th>\n",
       "      <th>num_user_for_reviews</th>\n",
       "    </tr>\n",
       "  </thead>\n",
       "  <tbody>\n",
       "    <tr>\n",
       "      <th>0</th>\n",
       "      <td>Avatar</td>\n",
       "      <td>2009.0</td>\n",
       "      <td>Action|Adventure|Fantasy|Sci-Fi</td>\n",
       "      <td>178.0</td>\n",
       "      <td>James Cameron</td>\n",
       "      <td>CCH Pounder</td>\n",
       "      <td>USA</td>\n",
       "      <td>237000000.0</td>\n",
       "      <td>760505847.0</td>\n",
       "      <td>7.9</td>\n",
       "      <td>English</td>\n",
       "      <td>886204</td>\n",
       "      <td>723.0</td>\n",
       "      <td>3054.0</td>\n",
       "    </tr>\n",
       "    <tr>\n",
       "      <th>1</th>\n",
       "      <td>Pirates of the Caribbean: At World's End</td>\n",
       "      <td>2007.0</td>\n",
       "      <td>Action|Adventure|Fantasy</td>\n",
       "      <td>169.0</td>\n",
       "      <td>Gore Verbinski</td>\n",
       "      <td>Johnny Depp</td>\n",
       "      <td>USA</td>\n",
       "      <td>300000000.0</td>\n",
       "      <td>309404152.0</td>\n",
       "      <td>7.1</td>\n",
       "      <td>English</td>\n",
       "      <td>471220</td>\n",
       "      <td>302.0</td>\n",
       "      <td>1238.0</td>\n",
       "    </tr>\n",
       "    <tr>\n",
       "      <th>2</th>\n",
       "      <td>Spectre</td>\n",
       "      <td>2015.0</td>\n",
       "      <td>Action|Adventure|Thriller</td>\n",
       "      <td>148.0</td>\n",
       "      <td>Sam Mendes</td>\n",
       "      <td>Christoph Waltz</td>\n",
       "      <td>UK</td>\n",
       "      <td>245000000.0</td>\n",
       "      <td>200074175.0</td>\n",
       "      <td>6.8</td>\n",
       "      <td>English</td>\n",
       "      <td>275868</td>\n",
       "      <td>602.0</td>\n",
       "      <td>994.0</td>\n",
       "    </tr>\n",
       "    <tr>\n",
       "      <th>3</th>\n",
       "      <td>The Dark Knight Rises</td>\n",
       "      <td>2012.0</td>\n",
       "      <td>Action|Thriller</td>\n",
       "      <td>164.0</td>\n",
       "      <td>Christopher Nolan</td>\n",
       "      <td>Tom Hardy</td>\n",
       "      <td>USA</td>\n",
       "      <td>250000000.0</td>\n",
       "      <td>448130642.0</td>\n",
       "      <td>8.5</td>\n",
       "      <td>English</td>\n",
       "      <td>1144337</td>\n",
       "      <td>813.0</td>\n",
       "      <td>2701.0</td>\n",
       "    </tr>\n",
       "    <tr>\n",
       "      <th>5</th>\n",
       "      <td>John Carter</td>\n",
       "      <td>2012.0</td>\n",
       "      <td>Action|Adventure|Sci-Fi</td>\n",
       "      <td>132.0</td>\n",
       "      <td>Andrew Stanton</td>\n",
       "      <td>Daryl Sabara</td>\n",
       "      <td>USA</td>\n",
       "      <td>263700000.0</td>\n",
       "      <td>73058679.0</td>\n",
       "      <td>6.6</td>\n",
       "      <td>English</td>\n",
       "      <td>212204</td>\n",
       "      <td>462.0</td>\n",
       "      <td>738.0</td>\n",
       "    </tr>\n",
       "  </tbody>\n",
       "</table>\n",
       "</div>"
      ],
      "text/plain": [
       "                                 movie_title  title_year  \\\n",
       "0                                    Avatar       2009.0   \n",
       "1  Pirates of the Caribbean: At World's End       2007.0   \n",
       "2                                   Spectre       2015.0   \n",
       "3                     The Dark Knight Rises       2012.0   \n",
       "5                               John Carter       2012.0   \n",
       "\n",
       "                            genres  duration      director_name  \\\n",
       "0  Action|Adventure|Fantasy|Sci-Fi     178.0      James Cameron   \n",
       "1         Action|Adventure|Fantasy     169.0     Gore Verbinski   \n",
       "2        Action|Adventure|Thriller     148.0         Sam Mendes   \n",
       "3                  Action|Thriller     164.0  Christopher Nolan   \n",
       "5          Action|Adventure|Sci-Fi     132.0     Andrew Stanton   \n",
       "\n",
       "           actor_1 country       budget        gross  imdb_score language  \\\n",
       "0      CCH Pounder     USA  237000000.0  760505847.0         7.9  English   \n",
       "1      Johnny Depp     USA  300000000.0  309404152.0         7.1  English   \n",
       "2  Christoph Waltz      UK  245000000.0  200074175.0         6.8  English   \n",
       "3        Tom Hardy     USA  250000000.0  448130642.0         8.5  English   \n",
       "5     Daryl Sabara     USA  263700000.0   73058679.0         6.6  English   \n",
       "\n",
       "   num_voted_users  num_critic_for_reviews  num_user_for_reviews  \n",
       "0           886204                   723.0                3054.0  \n",
       "1           471220                   302.0                1238.0  \n",
       "2           275868                   602.0                 994.0  \n",
       "3          1144337                   813.0                2701.0  \n",
       "5           212204                   462.0                 738.0  "
      ]
     },
     "execution_count": 18,
     "metadata": {},
     "output_type": "execute_result"
    }
   ],
   "source": [
    "# Rearranging/reordering the columns\n",
    "df = df[['movie_title', 'title_year', 'genres', 'duration', 'director_name', 'actor_1', \n",
    "         'country', 'budget', 'gross', 'imdb_score', 'language', \n",
    "         'num_voted_users', 'num_critic_for_reviews', 'num_user_for_reviews']]\n",
    "df.head()"
   ]
  },
  {
   "cell_type": "code",
   "execution_count": 19,
   "metadata": {},
   "outputs": [
    {
     "data": {
      "text/plain": [
       "(3854, 14)"
      ]
     },
     "execution_count": 19,
     "metadata": {},
     "output_type": "execute_result"
    }
   ],
   "source": [
    "df.shape"
   ]
  },
  {
   "cell_type": "markdown",
   "metadata": {},
   "source": [
    "#### Checking the percentage of data retained after completeing the above steps"
   ]
  },
  {
   "cell_type": "code",
   "execution_count": 20,
   "metadata": {},
   "outputs": [
    {
     "data": {
      "text/plain": [
       "76.42276422764228"
      ]
     },
     "execution_count": 20,
     "metadata": {},
     "output_type": "execute_result"
    }
   ],
   "source": [
    "len(df)/len(df_raw) * 100"
   ]
  },
  {
   "cell_type": "markdown",
   "metadata": {},
   "source": [
    "After the cleaning processes above, we ratined about 76 percent of our rows."
   ]
  },
  {
   "cell_type": "markdown",
   "metadata": {},
   "source": [
    "### Creating a column for profit and Splitting  data to two parts for EDA and Hypothesis testing"
   ]
  },
  {
   "cell_type": "markdown",
   "metadata": {},
   "source": [
    "Convert the unit of the budget and gross column from £ to million £"
   ]
  },
  {
   "cell_type": "code",
   "execution_count": 21,
   "metadata": {},
   "outputs": [],
   "source": [
    "df['budget'] = df['budget']/1000000\n",
    "df['gross'] = df['gross']/1000000"
   ]
  },
  {
   "cell_type": "markdown",
   "metadata": {},
   "source": [
    "Create a new column called 'profit' which equals 'gross' minus 'budget'"
   ]
  },
  {
   "cell_type": "code",
   "execution_count": 22,
   "metadata": {},
   "outputs": [],
   "source": [
    "# Create a new column called 'profit' (last column) which equals 'gross' minus 'budget'\n",
    "df['profit'] = df['gross'] - df['budget']"
   ]
  },
  {
   "cell_type": "markdown",
   "metadata": {},
   "source": [
    "#### Splitting my data to two parts \n",
    "Dataframe is split to two parts, one for Exploratory Data Analysis (EDA) and the other for Hypothesis testing"
   ]
  },
  {
   "cell_type": "code",
   "execution_count": 23,
   "metadata": {},
   "outputs": [],
   "source": [
    "# The two data parts are called 'df_eda' and 'df_hyptst' respectively\n",
    "df_eda=df.sample(frac=0.5, random_state=1)\n",
    "df_hyptst=df.drop(df_eda.index)"
   ]
  },
  {
   "cell_type": "markdown",
   "metadata": {},
   "source": [
    "## 2.0 Exploratory Data Analysis And Visualizations\n",
    "Examining the data, to see if we can find any interesting statistics and observations"
   ]
  },
  {
   "cell_type": "markdown",
   "metadata": {},
   "source": [
    "#### 2.1 Overall statistics of the dataframe"
   ]
  },
  {
   "cell_type": "code",
   "execution_count": 24,
   "metadata": {},
   "outputs": [
    {
     "data": {
      "text/html": [
       "<div>\n",
       "<style scoped>\n",
       "    .dataframe tbody tr th:only-of-type {\n",
       "        vertical-align: middle;\n",
       "    }\n",
       "\n",
       "    .dataframe tbody tr th {\n",
       "        vertical-align: top;\n",
       "    }\n",
       "\n",
       "    .dataframe thead th {\n",
       "        text-align: right;\n",
       "    }\n",
       "</style>\n",
       "<table border=\"1\" class=\"dataframe\">\n",
       "  <thead>\n",
       "    <tr style=\"text-align: right;\">\n",
       "      <th></th>\n",
       "      <th>title_year</th>\n",
       "      <th>duration</th>\n",
       "      <th>budget</th>\n",
       "      <th>gross</th>\n",
       "      <th>imdb_score</th>\n",
       "      <th>num_voted_users</th>\n",
       "      <th>num_critic_for_reviews</th>\n",
       "      <th>num_user_for_reviews</th>\n",
       "      <th>profit</th>\n",
       "    </tr>\n",
       "  </thead>\n",
       "  <tbody>\n",
       "    <tr>\n",
       "      <th>count</th>\n",
       "      <td>1927.0000</td>\n",
       "      <td>1927.0000</td>\n",
       "      <td>1927.0000</td>\n",
       "      <td>1927.0000</td>\n",
       "      <td>1927.0000</td>\n",
       "      <td>1.927000e+03</td>\n",
       "      <td>1927.0000</td>\n",
       "      <td>1927.0000</td>\n",
       "      <td>1927.0000</td>\n",
       "    </tr>\n",
       "    <tr>\n",
       "      <th>mean</th>\n",
       "      <td>2003.1028</td>\n",
       "      <td>110.0353</td>\n",
       "      <td>50.7477</td>\n",
       "      <td>51.3695</td>\n",
       "      <td>6.4387</td>\n",
       "      <td>1.033598e+05</td>\n",
       "      <td>161.7032</td>\n",
       "      <td>323.5963</td>\n",
       "      <td>0.6218</td>\n",
       "    </tr>\n",
       "    <tr>\n",
       "      <th>std</th>\n",
       "      <td>10.1355</td>\n",
       "      <td>22.6343</td>\n",
       "      <td>306.3627</td>\n",
       "      <td>69.6813</td>\n",
       "      <td>1.0652</td>\n",
       "      <td>1.541024e+05</td>\n",
       "      <td>122.0620</td>\n",
       "      <td>412.4237</td>\n",
       "      <td>309.9530</td>\n",
       "    </tr>\n",
       "    <tr>\n",
       "      <th>min</th>\n",
       "      <td>1927.0000</td>\n",
       "      <td>37.0000</td>\n",
       "      <td>0.0002</td>\n",
       "      <td>0.0007</td>\n",
       "      <td>1.9000</td>\n",
       "      <td>2.700000e+01</td>\n",
       "      <td>1.0000</td>\n",
       "      <td>1.0000</td>\n",
       "      <td>-12213.2986</td>\n",
       "    </tr>\n",
       "    <tr>\n",
       "      <th>25%</th>\n",
       "      <td>1999.0000</td>\n",
       "      <td>95.0000</td>\n",
       "      <td>10.0000</td>\n",
       "      <td>6.9992</td>\n",
       "      <td>5.9000</td>\n",
       "      <td>1.778350e+04</td>\n",
       "      <td>72.0000</td>\n",
       "      <td>102.0000</td>\n",
       "      <td>-11.0569</td>\n",
       "    </tr>\n",
       "    <tr>\n",
       "      <th>50%</th>\n",
       "      <td>2005.0000</td>\n",
       "      <td>106.0000</td>\n",
       "      <td>25.0000</td>\n",
       "      <td>28.5639</td>\n",
       "      <td>6.5000</td>\n",
       "      <td>5.134900e+04</td>\n",
       "      <td>135.0000</td>\n",
       "      <td>199.0000</td>\n",
       "      <td>0.5303</td>\n",
       "    </tr>\n",
       "    <tr>\n",
       "      <th>75%</th>\n",
       "      <td>2010.0000</td>\n",
       "      <td>120.0000</td>\n",
       "      <td>50.0000</td>\n",
       "      <td>65.6384</td>\n",
       "      <td>7.2000</td>\n",
       "      <td>1.237465e+05</td>\n",
       "      <td>220.0000</td>\n",
       "      <td>388.0000</td>\n",
       "      <td>24.4667</td>\n",
       "    </tr>\n",
       "    <tr>\n",
       "      <th>max</th>\n",
       "      <td>2016.0000</td>\n",
       "      <td>330.0000</td>\n",
       "      <td>12215.5000</td>\n",
       "      <td>652.1773</td>\n",
       "      <td>9.0000</td>\n",
       "      <td>1.676169e+06</td>\n",
       "      <td>813.0000</td>\n",
       "      <td>5060.0000</td>\n",
       "      <td>502.1773</td>\n",
       "    </tr>\n",
       "  </tbody>\n",
       "</table>\n",
       "</div>"
      ],
      "text/plain": [
       "       title_year   duration      budget      gross  imdb_score  \\\n",
       "count   1927.0000  1927.0000   1927.0000  1927.0000   1927.0000   \n",
       "mean    2003.1028   110.0353     50.7477    51.3695      6.4387   \n",
       "std       10.1355    22.6343    306.3627    69.6813      1.0652   \n",
       "min     1927.0000    37.0000      0.0002     0.0007      1.9000   \n",
       "25%     1999.0000    95.0000     10.0000     6.9992      5.9000   \n",
       "50%     2005.0000   106.0000     25.0000    28.5639      6.5000   \n",
       "75%     2010.0000   120.0000     50.0000    65.6384      7.2000   \n",
       "max     2016.0000   330.0000  12215.5000   652.1773      9.0000   \n",
       "\n",
       "       num_voted_users  num_critic_for_reviews  num_user_for_reviews  \\\n",
       "count     1.927000e+03               1927.0000             1927.0000   \n",
       "mean      1.033598e+05                161.7032              323.5963   \n",
       "std       1.541024e+05                122.0620              412.4237   \n",
       "min       2.700000e+01                  1.0000                1.0000   \n",
       "25%       1.778350e+04                 72.0000              102.0000   \n",
       "50%       5.134900e+04                135.0000              199.0000   \n",
       "75%       1.237465e+05                220.0000              388.0000   \n",
       "max       1.676169e+06                813.0000             5060.0000   \n",
       "\n",
       "           profit  \n",
       "count   1927.0000  \n",
       "mean       0.6218  \n",
       "std      309.9530  \n",
       "min   -12213.2986  \n",
       "25%      -11.0569  \n",
       "50%        0.5303  \n",
       "75%       24.4667  \n",
       "max      502.1773  "
      ]
     },
     "execution_count": 24,
     "metadata": {},
     "output_type": "execute_result"
    }
   ],
   "source": [
    "round(df_eda.describe(),4)"
   ]
  },
  {
   "cell_type": "markdown",
   "metadata": {},
   "source": [
    "Here, we are dealing with data from 1927 to 2016. We also see the minimum and maximum values for budget, gross, imdb_score amongst other values."
   ]
  },
  {
   "cell_type": "markdown",
   "metadata": {},
   "source": [
    "#### Parametric Correlation Analysis"
   ]
  },
  {
   "cell_type": "code",
   "execution_count": 25,
   "metadata": {},
   "outputs": [
    {
     "data": {
      "image/png": "[encoded data removed]",
      "text/plain": [
       "<Figure size 432x288 with 2 Axes>"
      ]
     },
     "metadata": {},
     "output_type": "display_data"
    }
   ],
   "source": [
    "sns.heatmap(df.corr(), cmap='PuOr_r')\n",
    "plt.title(\"Correlation between numeric datasets\")\n",
    "plt.show()"
   ]
  },
  {
   "cell_type": "markdown",
   "metadata": {},
   "source": [
    "This correlation chart shows an overview in the relationship between variables in our dataset. Making comparison between this four categories - budget, profit, gross and imdb_score. We see no correlation between all four variables, except for Budget and Profit which shows a highly negative correlation (>-0.95)"
   ]
  },
  {
   "cell_type": "markdown",
   "metadata": {},
   "source": [
    "#### Visualizing this high negative correlating between budget vs Profit"
   ]
  },
  {
   "cell_type": "code",
   "execution_count": 26,
   "metadata": {},
   "outputs": [
    {
     "data": {
      "image/png": "[encoded data removed]",
      "text/plain": [
       "<Figure size 432x288 with 1 Axes>"
      ]
     },
     "metadata": {},
     "output_type": "display_data"
    }
   ],
   "source": [
    "# Visualizing the newly constructed dataframe (top_profiting150)\n",
    "sns.scatterplot(x='budget', y='profit', data=df_eda)\n",
    "plt.show()"
   ]
  },
  {
   "cell_type": "markdown",
   "metadata": {},
   "source": [
    "Clearly, the data skewes to the left. The trend here corroborates the high negative correlation between budget on a movie and profit made. This corresponds with the results from the pearson correlation."
   ]
  },
  {
   "cell_type": "raw",
   "metadata": {},
   "source": [
    "#### 2.2 Find the movies with highest profits and the associated director\n",
    "*  We extract and display the top 15 profiting movie titles, against the director_name and store them in a new dataframe 'top_profiting15'"
   ]
  },
  {
   "cell_type": "code",
   "execution_count": 27,
   "metadata": {},
   "outputs": [
    {
     "data": {
      "text/html": [
       "<div>\n",
       "<style scoped>\n",
       "    .dataframe tbody tr th:only-of-type {\n",
       "        vertical-align: middle;\n",
       "    }\n",
       "\n",
       "    .dataframe tbody tr th {\n",
       "        vertical-align: top;\n",
       "    }\n",
       "\n",
       "    .dataframe thead th {\n",
       "        text-align: right;\n",
       "    }\n",
       "</style>\n",
       "<table border=\"1\" class=\"dataframe\">\n",
       "  <thead>\n",
       "    <tr style=\"text-align: right;\">\n",
       "      <th></th>\n",
       "      <th>director_name</th>\n",
       "      <th>profit</th>\n",
       "      <th>imdb_score</th>\n",
       "      <th>budget</th>\n",
       "    </tr>\n",
       "    <tr>\n",
       "      <th>movie_title</th>\n",
       "      <th></th>\n",
       "      <th></th>\n",
       "      <th></th>\n",
       "      <th></th>\n",
       "    </tr>\n",
       "  </thead>\n",
       "  <tbody>\n",
       "    <tr>\n",
       "      <th>Jurassic World</th>\n",
       "      <td>Colin Trevorrow</td>\n",
       "      <td>502.177271</td>\n",
       "      <td>7.0</td>\n",
       "      <td>150.0</td>\n",
       "    </tr>\n",
       "    <tr>\n",
       "      <th>Star Wars: Episode IV - A New Hope</th>\n",
       "      <td>George Lucas</td>\n",
       "      <td>449.935665</td>\n",
       "      <td>8.7</td>\n",
       "      <td>11.0</td>\n",
       "    </tr>\n",
       "    <tr>\n",
       "      <th>The Avengers</th>\n",
       "      <td>Joss Whedon</td>\n",
       "      <td>403.279547</td>\n",
       "      <td>8.1</td>\n",
       "      <td>220.0</td>\n",
       "    </tr>\n",
       "    <tr>\n",
       "      <th>Star Wars: Episode I - The Phantom Menace</th>\n",
       "      <td>George Lucas</td>\n",
       "      <td>359.544677</td>\n",
       "      <td>6.5</td>\n",
       "      <td>115.0</td>\n",
       "    </tr>\n",
       "    <tr>\n",
       "      <th>The Dark Knight</th>\n",
       "      <td>Christopher Nolan</td>\n",
       "      <td>348.316061</td>\n",
       "      <td>9.0</td>\n",
       "      <td>185.0</td>\n",
       "    </tr>\n",
       "    <tr>\n",
       "      <th>Deadpool</th>\n",
       "      <td>Tim Miller</td>\n",
       "      <td>305.024263</td>\n",
       "      <td>8.1</td>\n",
       "      <td>58.0</td>\n",
       "    </tr>\n",
       "    <tr>\n",
       "      <th>The Hunger Games: Catching Fire</th>\n",
       "      <td>Francis Lawrence</td>\n",
       "      <td>294.645577</td>\n",
       "      <td>7.6</td>\n",
       "      <td>130.0</td>\n",
       "    </tr>\n",
       "    <tr>\n",
       "      <th>Despicable Me 2</th>\n",
       "      <td>Pierre Coffin</td>\n",
       "      <td>292.049635</td>\n",
       "      <td>7.5</td>\n",
       "      <td>76.0</td>\n",
       "    </tr>\n",
       "    <tr>\n",
       "      <th>American Sniper</th>\n",
       "      <td>Clint Eastwood</td>\n",
       "      <td>291.323553</td>\n",
       "      <td>7.3</td>\n",
       "      <td>58.8</td>\n",
       "    </tr>\n",
       "    <tr>\n",
       "      <th>Star Wars: Episode VI - Return of the Jedi</th>\n",
       "      <td>Richard Marquand</td>\n",
       "      <td>276.625409</td>\n",
       "      <td>8.4</td>\n",
       "      <td>32.5</td>\n",
       "    </tr>\n",
       "    <tr>\n",
       "      <th>Forrest Gump</th>\n",
       "      <td>Robert Zemeckis</td>\n",
       "      <td>274.691196</td>\n",
       "      <td>8.8</td>\n",
       "      <td>55.0</td>\n",
       "    </tr>\n",
       "    <tr>\n",
       "      <th>Star Wars: Episode V - The Empire Strikes Back</th>\n",
       "      <td>Irvin Kershner</td>\n",
       "      <td>272.158751</td>\n",
       "      <td>8.8</td>\n",
       "      <td>18.0</td>\n",
       "    </tr>\n",
       "    <tr>\n",
       "      <th>Home Alone</th>\n",
       "      <td>Chris Columbus</td>\n",
       "      <td>267.761243</td>\n",
       "      <td>7.5</td>\n",
       "      <td>18.0</td>\n",
       "    </tr>\n",
       "    <tr>\n",
       "      <th>Star Wars: Episode III - Revenge of the Sith</th>\n",
       "      <td>George Lucas</td>\n",
       "      <td>267.262555</td>\n",
       "      <td>7.6</td>\n",
       "      <td>113.0</td>\n",
       "    </tr>\n",
       "    <tr>\n",
       "      <th>Minions</th>\n",
       "      <td>Kyle Balda</td>\n",
       "      <td>262.029560</td>\n",
       "      <td>6.4</td>\n",
       "      <td>74.0</td>\n",
       "    </tr>\n",
       "  </tbody>\n",
       "</table>\n",
       "</div>"
      ],
      "text/plain": [
       "                                                     director_name  \\\n",
       "movie_title                                                          \n",
       "Jurassic World                                     Colin Trevorrow   \n",
       "Star Wars: Episode IV - A New Hope                    George Lucas   \n",
       "The Avengers                                           Joss Whedon   \n",
       "Star Wars: Episode I - The Phantom Menace             George Lucas   \n",
       "The Dark Knight                                  Christopher Nolan   \n",
       "Deadpool                                                Tim Miller   \n",
       "The Hunger Games: Catching Fire                   Francis Lawrence   \n",
       "Despicable Me 2                                      Pierre Coffin   \n",
       "American Sniper                                     Clint Eastwood   \n",
       "Star Wars: Episode VI - Return of the Jedi        Richard Marquand   \n",
       "Forrest Gump                                       Robert Zemeckis   \n",
       "Star Wars: Episode V - The Empire Strikes Back      Irvin Kershner   \n",
       "Home Alone                                          Chris Columbus   \n",
       "Star Wars: Episode III - Revenge of the Sith          George Lucas   \n",
       "Minions                                                 Kyle Balda   \n",
       "\n",
       "                                                     profit  imdb_score  \\\n",
       "movie_title                                                               \n",
       "Jurassic World                                   502.177271         7.0   \n",
       "Star Wars: Episode IV - A New Hope               449.935665         8.7   \n",
       "The Avengers                                     403.279547         8.1   \n",
       "Star Wars: Episode I - The Phantom Menace        359.544677         6.5   \n",
       "The Dark Knight                                  348.316061         9.0   \n",
       "Deadpool                                         305.024263         8.1   \n",
       "The Hunger Games: Catching Fire                  294.645577         7.6   \n",
       "Despicable Me 2                                  292.049635         7.5   \n",
       "American Sniper                                  291.323553         7.3   \n",
       "Star Wars: Episode VI - Return of the Jedi       276.625409         8.4   \n",
       "Forrest Gump                                     274.691196         8.8   \n",
       "Star Wars: Episode V - The Empire Strikes Back   272.158751         8.8   \n",
       "Home Alone                                       267.761243         7.5   \n",
       "Star Wars: Episode III - Revenge of the Sith     267.262555         7.6   \n",
       "Minions                                          262.029560         6.4   \n",
       "\n",
       "                                                 budget  \n",
       "movie_title                                              \n",
       "Jurassic World                                    150.0  \n",
       "Star Wars: Episode IV - A New Hope                 11.0  \n",
       "The Avengers                                      220.0  \n",
       "Star Wars: Episode I - The Phantom Menace         115.0  \n",
       "The Dark Knight                                   185.0  \n",
       "Deadpool                                           58.0  \n",
       "The Hunger Games: Catching Fire                   130.0  \n",
       "Despicable Me 2                                    76.0  \n",
       "American Sniper                                    58.8  \n",
       "Star Wars: Episode VI - Return of the Jedi         32.5  \n",
       "Forrest Gump                                       55.0  \n",
       "Star Wars: Episode V - The Empire Strikes Back     18.0  \n",
       "Home Alone                                         18.0  \n",
       "Star Wars: Episode III - Revenge of the Sith      113.0  \n",
       "Minions                                            74.0  "
      ]
     },
     "execution_count": 27,
     "metadata": {},
     "output_type": "execute_result"
    }
   ],
   "source": [
    "top_profiting15 = df_eda.nlargest(15, 'profit')[['movie_title', 'director_name', 'profit', 'imdb_score', 'budget']].set_index('movie_title')\n",
    "top_profiting15"
   ]
  },
  {
   "cell_type": "code",
   "execution_count": 28,
   "metadata": {},
   "outputs": [
    {
     "data": {
      "image/png": "[encoded data removed]",
      "text/plain": [
       "<Figure size 432x288 with 1 Axes>"
      ]
     },
     "metadata": {},
     "output_type": "display_data"
    }
   ],
   "source": [
    "# Visualizing the newly constructed dataframe (top_profiting15)\n",
    "sns.barplot(x='profit', y=top_profiting15.index, data=top_profiting15, hue='director_name', dodge=False)\n",
    "plt.legend(bbox_to_anchor=(1.05,1), loc=2)\n",
    "plt.title(\"Directors with Highest profitting movies\")\n",
    "plt.show()"
   ]
  },
  {
   "cell_type": "markdown",
   "metadata": {},
   "source": [
    "Despite the no correlation established earlier between **profit** and **imdb_score** this table above for top 15 profiting movies suggest a mean imdb_score of 7.8. This implies that on average, the good profiting movies should have an imdb_score greater than 7.\n",
    "\n",
    "Of the top 15 most profitable movies, three movies by George Lucas took positions 2, 5 and 13, averaging an imdb_score of 7.6. This, may be suggestive of some sort of influence by this directors on movie profitability and rating."
   ]
  },
  {
   "cell_type": "markdown",
   "metadata": {},
   "source": [
    "#### Finding movies with negative profit"
   ]
  },
  {
   "cell_type": "code",
   "execution_count": 29,
   "metadata": {},
   "outputs": [
    {
     "data": {
      "text/html": [
       "<div>\n",
       "<style scoped>\n",
       "    .dataframe tbody tr th:only-of-type {\n",
       "        vertical-align: middle;\n",
       "    }\n",
       "\n",
       "    .dataframe tbody tr th {\n",
       "        vertical-align: top;\n",
       "    }\n",
       "\n",
       "    .dataframe thead th {\n",
       "        text-align: right;\n",
       "    }\n",
       "</style>\n",
       "<table border=\"1\" class=\"dataframe\">\n",
       "  <thead>\n",
       "    <tr style=\"text-align: right;\">\n",
       "      <th></th>\n",
       "      <th>movie_title</th>\n",
       "      <th>title_year</th>\n",
       "      <th>genres</th>\n",
       "      <th>duration</th>\n",
       "      <th>director_name</th>\n",
       "      <th>actor_1</th>\n",
       "      <th>country</th>\n",
       "      <th>budget</th>\n",
       "      <th>gross</th>\n",
       "      <th>imdb_score</th>\n",
       "      <th>language</th>\n",
       "      <th>num_voted_users</th>\n",
       "      <th>num_critic_for_reviews</th>\n",
       "      <th>num_user_for_reviews</th>\n",
       "      <th>profit</th>\n",
       "    </tr>\n",
       "  </thead>\n",
       "  <tbody>\n",
       "    <tr>\n",
       "      <th>2988</th>\n",
       "      <td>The Host</td>\n",
       "      <td>2006.0</td>\n",
       "      <td>Comedy|Drama|Horror|Sci-Fi</td>\n",
       "      <td>110.0</td>\n",
       "      <td>Joon-ho Bong</td>\n",
       "      <td>Doona Bae</td>\n",
       "      <td>South Korea</td>\n",
       "      <td>12215.500000</td>\n",
       "      <td>2.201412</td>\n",
       "      <td>7.0</td>\n",
       "      <td>Korean</td>\n",
       "      <td>68883</td>\n",
       "      <td>363.0</td>\n",
       "      <td>279.0</td>\n",
       "      <td>-12213.298588</td>\n",
       "    </tr>\n",
       "    <tr>\n",
       "      <th>3859</th>\n",
       "      <td>Lady Vengeance</td>\n",
       "      <td>2005.0</td>\n",
       "      <td>Crime|Drama</td>\n",
       "      <td>112.0</td>\n",
       "      <td>Chan-wook Park</td>\n",
       "      <td>Min-sik Choi</td>\n",
       "      <td>South Korea</td>\n",
       "      <td>4200.000000</td>\n",
       "      <td>0.211667</td>\n",
       "      <td>7.7</td>\n",
       "      <td>Korean</td>\n",
       "      <td>53508</td>\n",
       "      <td>202.0</td>\n",
       "      <td>131.0</td>\n",
       "      <td>-4199.788333</td>\n",
       "    </tr>\n",
       "    <tr>\n",
       "      <th>2323</th>\n",
       "      <td>Princess Mononoke</td>\n",
       "      <td>1997.0</td>\n",
       "      <td>Adventure|Animation|Fantasy</td>\n",
       "      <td>134.0</td>\n",
       "      <td>Hayao Miyazaki</td>\n",
       "      <td>Minnie Driver</td>\n",
       "      <td>Japan</td>\n",
       "      <td>2400.000000</td>\n",
       "      <td>2.298191</td>\n",
       "      <td>8.4</td>\n",
       "      <td>Japanese</td>\n",
       "      <td>221552</td>\n",
       "      <td>174.0</td>\n",
       "      <td>570.0</td>\n",
       "      <td>-2397.701809</td>\n",
       "    </tr>\n",
       "    <tr>\n",
       "      <th>2334</th>\n",
       "      <td>Steamboy</td>\n",
       "      <td>2004.0</td>\n",
       "      <td>Action|Adventure|Animation|Family|Sci-Fi|Thriller</td>\n",
       "      <td>103.0</td>\n",
       "      <td>Katsuhiro Ôtomo</td>\n",
       "      <td>William Hootkins</td>\n",
       "      <td>Japan</td>\n",
       "      <td>2127.519898</td>\n",
       "      <td>0.410388</td>\n",
       "      <td>6.9</td>\n",
       "      <td>Japanese</td>\n",
       "      <td>13727</td>\n",
       "      <td>105.0</td>\n",
       "      <td>79.0</td>\n",
       "      <td>-2127.109510</td>\n",
       "    </tr>\n",
       "    <tr>\n",
       "      <th>4542</th>\n",
       "      <td>Godzilla 2000</td>\n",
       "      <td>1999.0</td>\n",
       "      <td>Action|Adventure|Drama|Sci-Fi|Thriller</td>\n",
       "      <td>99.0</td>\n",
       "      <td>Takao Okawara</td>\n",
       "      <td>Hiroshi Abe</td>\n",
       "      <td>Japan</td>\n",
       "      <td>1000.000000</td>\n",
       "      <td>10.037390</td>\n",
       "      <td>6.0</td>\n",
       "      <td>Japanese</td>\n",
       "      <td>5442</td>\n",
       "      <td>107.0</td>\n",
       "      <td>140.0</td>\n",
       "      <td>-989.962610</td>\n",
       "    </tr>\n",
       "  </tbody>\n",
       "</table>\n",
       "</div>"
      ],
      "text/plain": [
       "             movie_title  title_year  \\\n",
       "2988           The Host       2006.0   \n",
       "3859     Lady Vengeance       2005.0   \n",
       "2323  Princess Mononoke       1997.0   \n",
       "2334           Steamboy       2004.0   \n",
       "4542      Godzilla 2000       1999.0   \n",
       "\n",
       "                                                 genres  duration  \\\n",
       "2988                         Comedy|Drama|Horror|Sci-Fi     110.0   \n",
       "3859                                        Crime|Drama     112.0   \n",
       "2323                        Adventure|Animation|Fantasy     134.0   \n",
       "2334  Action|Adventure|Animation|Family|Sci-Fi|Thriller     103.0   \n",
       "4542             Action|Adventure|Drama|Sci-Fi|Thriller      99.0   \n",
       "\n",
       "        director_name           actor_1      country        budget      gross  \\\n",
       "2988     Joon-ho Bong         Doona Bae  South Korea  12215.500000   2.201412   \n",
       "3859   Chan-wook Park      Min-sik Choi  South Korea   4200.000000   0.211667   \n",
       "2323   Hayao Miyazaki     Minnie Driver        Japan   2400.000000   2.298191   \n",
       "2334  Katsuhiro Ôtomo  William Hootkins        Japan   2127.519898   0.410388   \n",
       "4542    Takao Okawara       Hiroshi Abe        Japan   1000.000000  10.037390   \n",
       "\n",
       "      imdb_score  language  num_voted_users  num_critic_for_reviews  \\\n",
       "2988         7.0    Korean            68883                   363.0   \n",
       "3859         7.7    Korean            53508                   202.0   \n",
       "2323         8.4  Japanese           221552                   174.0   \n",
       "2334         6.9  Japanese            13727                   105.0   \n",
       "4542         6.0  Japanese             5442                   107.0   \n",
       "\n",
       "      num_user_for_reviews        profit  \n",
       "2988                 279.0 -12213.298588  \n",
       "3859                 131.0  -4199.788333  \n",
       "2323                 570.0  -2397.701809  \n",
       "2334                  79.0  -2127.109510  \n",
       "4542                 140.0   -989.962610  "
      ]
     },
     "execution_count": 29,
     "metadata": {},
     "output_type": "execute_result"
    }
   ],
   "source": [
    "negative_profit = df_eda[df_eda['profit'] < 0]\n",
    "negative_profit.reset_index(drop=True)\n",
    "\n",
    "#Top 5 movies that incured losses\n",
    "negative_profit.sort_values(by='profit')[0:5]"
   ]
  },
  {
   "cell_type": "markdown",
   "metadata": {},
   "source": [
    "The highest losses were recorded for foreign_movies"
   ]
  },
  {
   "cell_type": "markdown",
   "metadata": {},
   "source": [
    "#### Using a histogram to have an overview of imdb_score distribution for all movie"
   ]
  },
  {
   "cell_type": "code",
   "execution_count": 30,
   "metadata": {},
   "outputs": [
    {
     "data": {
      "image/png": "[encoded data removed]",
      "text/plain": [
       "<Figure size 432x288 with 1 Axes>"
      ]
     },
     "metadata": {},
     "output_type": "display_data"
    }
   ],
   "source": [
    "plt.title(\"IMDB Scores Distribution\") #setting the title of the plot\n",
    "plt.xlabel('IMDB score') # setting the x label of the plot\n",
    "plt.ylabel('Frequency') # setting the y label of the plot\n",
    "plt.hist(df_eda['imdb_score'], color=\"skyblue\", edgecolor='black'); # plotting the points on the histogram"
   ]
  },
  {
   "cell_type": "markdown",
   "metadata": {},
   "source": [
    "The result from the histogram shows that most of the films’ IMDB scores lie around 6.3–7.0"
   ]
  },
  {
   "cell_type": "markdown",
   "metadata": {},
   "source": [
    "#### 2.4 Let's find top 250 imdb_score \n",
    "The top 250 movies with the greatest imdb_score should be stored in a new dataframe called \"imdb_top250.\"\n",
    "- Additionally, we confirm that the num_voted_users for each of these films exceeds 25000.\n",
    "- Add a rank column as well, with values reflecting the positions of the corresponding movies from 1 to 250.\n",
    "\n",
    "In a separate dataframe called \"top_nonEng_movies,\" extract all the imdb top250 dataframe movies that aren't in English."
   ]
  },
  {
   "cell_type": "code",
   "execution_count": 31,
   "metadata": {},
   "outputs": [
    {
     "data": {
      "text/html": [
       "<div>\n",
       "<style scoped>\n",
       "    .dataframe tbody tr th:only-of-type {\n",
       "        vertical-align: middle;\n",
       "    }\n",
       "\n",
       "    .dataframe tbody tr th {\n",
       "        vertical-align: top;\n",
       "    }\n",
       "\n",
       "    .dataframe thead th {\n",
       "        text-align: right;\n",
       "    }\n",
       "</style>\n",
       "<table border=\"1\" class=\"dataframe\">\n",
       "  <thead>\n",
       "    <tr style=\"text-align: right;\">\n",
       "      <th></th>\n",
       "      <th>title_year</th>\n",
       "      <th>genres</th>\n",
       "      <th>duration</th>\n",
       "      <th>director_name</th>\n",
       "      <th>actor_1</th>\n",
       "      <th>country</th>\n",
       "      <th>budget</th>\n",
       "      <th>gross</th>\n",
       "      <th>imdb_score</th>\n",
       "      <th>language</th>\n",
       "      <th>num_voted_users</th>\n",
       "      <th>num_critic_for_reviews</th>\n",
       "      <th>num_user_for_reviews</th>\n",
       "      <th>profit</th>\n",
       "      <th>rank</th>\n",
       "    </tr>\n",
       "    <tr>\n",
       "      <th>movie_title</th>\n",
       "      <th></th>\n",
       "      <th></th>\n",
       "      <th></th>\n",
       "      <th></th>\n",
       "      <th></th>\n",
       "      <th></th>\n",
       "      <th></th>\n",
       "      <th></th>\n",
       "      <th></th>\n",
       "      <th></th>\n",
       "      <th></th>\n",
       "      <th></th>\n",
       "      <th></th>\n",
       "      <th></th>\n",
       "      <th></th>\n",
       "    </tr>\n",
       "  </thead>\n",
       "  <tbody>\n",
       "    <tr>\n",
       "      <th>The Shawshank Redemption</th>\n",
       "      <td>1994.0</td>\n",
       "      <td>Crime|Drama</td>\n",
       "      <td>142.0</td>\n",
       "      <td>Frank Darabont</td>\n",
       "      <td>Morgan Freeman</td>\n",
       "      <td>USA</td>\n",
       "      <td>25.0</td>\n",
       "      <td>28.341469</td>\n",
       "      <td>9.3</td>\n",
       "      <td>English</td>\n",
       "      <td>1689764</td>\n",
       "      <td>199.0</td>\n",
       "      <td>4144.0</td>\n",
       "      <td>3.341469</td>\n",
       "      <td>1.0</td>\n",
       "    </tr>\n",
       "    <tr>\n",
       "      <th>The Godfather</th>\n",
       "      <td>1972.0</td>\n",
       "      <td>Crime|Drama</td>\n",
       "      <td>175.0</td>\n",
       "      <td>Francis Ford Coppola</td>\n",
       "      <td>Al Pacino</td>\n",
       "      <td>USA</td>\n",
       "      <td>6.0</td>\n",
       "      <td>134.821952</td>\n",
       "      <td>9.2</td>\n",
       "      <td>English</td>\n",
       "      <td>1155770</td>\n",
       "      <td>208.0</td>\n",
       "      <td>2238.0</td>\n",
       "      <td>128.821952</td>\n",
       "      <td>2.0</td>\n",
       "    </tr>\n",
       "    <tr>\n",
       "      <th>The Godfather: Part II</th>\n",
       "      <td>1974.0</td>\n",
       "      <td>Crime|Drama</td>\n",
       "      <td>220.0</td>\n",
       "      <td>Francis Ford Coppola</td>\n",
       "      <td>Robert De Niro</td>\n",
       "      <td>USA</td>\n",
       "      <td>13.0</td>\n",
       "      <td>57.300000</td>\n",
       "      <td>9.0</td>\n",
       "      <td>English</td>\n",
       "      <td>790926</td>\n",
       "      <td>149.0</td>\n",
       "      <td>650.0</td>\n",
       "      <td>44.300000</td>\n",
       "      <td>3.0</td>\n",
       "    </tr>\n",
       "    <tr>\n",
       "      <th>The Dark Knight</th>\n",
       "      <td>2008.0</td>\n",
       "      <td>Action|Crime|Drama|Thriller</td>\n",
       "      <td>152.0</td>\n",
       "      <td>Christopher Nolan</td>\n",
       "      <td>Christian Bale</td>\n",
       "      <td>USA</td>\n",
       "      <td>185.0</td>\n",
       "      <td>533.316061</td>\n",
       "      <td>9.0</td>\n",
       "      <td>English</td>\n",
       "      <td>1676169</td>\n",
       "      <td>645.0</td>\n",
       "      <td>4667.0</td>\n",
       "      <td>348.316061</td>\n",
       "      <td>4.0</td>\n",
       "    </tr>\n",
       "    <tr>\n",
       "      <th>The Good, the Bad and the Ugly</th>\n",
       "      <td>1966.0</td>\n",
       "      <td>Western</td>\n",
       "      <td>142.0</td>\n",
       "      <td>Sergio Leone</td>\n",
       "      <td>Clint Eastwood</td>\n",
       "      <td>Italy</td>\n",
       "      <td>1.2</td>\n",
       "      <td>6.100000</td>\n",
       "      <td>8.9</td>\n",
       "      <td>Italian</td>\n",
       "      <td>503509</td>\n",
       "      <td>181.0</td>\n",
       "      <td>780.0</td>\n",
       "      <td>4.900000</td>\n",
       "      <td>5.0</td>\n",
       "    </tr>\n",
       "  </tbody>\n",
       "</table>\n",
       "</div>"
      ],
      "text/plain": [
       "                                 title_year                       genres  \\\n",
       "movie_title                                                                \n",
       "The Shawshank Redemption             1994.0                  Crime|Drama   \n",
       "The Godfather                        1972.0                  Crime|Drama   \n",
       "The Godfather: Part II               1974.0                  Crime|Drama   \n",
       "The Dark Knight                      2008.0  Action|Crime|Drama|Thriller   \n",
       "The Good, the Bad and the Ugly       1966.0                      Western   \n",
       "\n",
       "                                 duration         director_name  \\\n",
       "movie_title                                                       \n",
       "The Shawshank Redemption            142.0        Frank Darabont   \n",
       "The Godfather                       175.0  Francis Ford Coppola   \n",
       "The Godfather: Part II              220.0  Francis Ford Coppola   \n",
       "The Dark Knight                     152.0     Christopher Nolan   \n",
       "The Good, the Bad and the Ugly      142.0          Sergio Leone   \n",
       "\n",
       "                                        actor_1 country  budget       gross  \\\n",
       "movie_title                                                                   \n",
       "The Shawshank Redemption         Morgan Freeman     USA    25.0   28.341469   \n",
       "The Godfather                         Al Pacino     USA     6.0  134.821952   \n",
       "The Godfather: Part II           Robert De Niro     USA    13.0   57.300000   \n",
       "The Dark Knight                  Christian Bale     USA   185.0  533.316061   \n",
       "The Good, the Bad and the Ugly   Clint Eastwood   Italy     1.2    6.100000   \n",
       "\n",
       "                                 imdb_score language  num_voted_users  \\\n",
       "movie_title                                                             \n",
       "The Shawshank Redemption                9.3  English          1689764   \n",
       "The Godfather                           9.2  English          1155770   \n",
       "The Godfather: Part II                  9.0  English           790926   \n",
       "The Dark Knight                         9.0  English          1676169   \n",
       "The Good, the Bad and the Ugly          8.9  Italian           503509   \n",
       "\n",
       "                                 num_critic_for_reviews  num_user_for_reviews  \\\n",
       "movie_title                                                                     \n",
       "The Shawshank Redemption                          199.0                4144.0   \n",
       "The Godfather                                     208.0                2238.0   \n",
       "The Godfather: Part II                            149.0                 650.0   \n",
       "The Dark Knight                                   645.0                4667.0   \n",
       "The Good, the Bad and the Ugly                    181.0                 780.0   \n",
       "\n",
       "                                     profit  rank  \n",
       "movie_title                                        \n",
       "The Shawshank Redemption           3.341469   1.0  \n",
       "The Godfather                    128.821952   2.0  \n",
       "The Godfather: Part II            44.300000   3.0  \n",
       "The Dark Knight                  348.316061   4.0  \n",
       "The Good, the Bad and the Ugly     4.900000   5.0  "
      ]
     },
     "execution_count": 31,
     "metadata": {},
     "output_type": "execute_result"
    }
   ],
   "source": [
    "imdb_top250 = df[df['num_voted_users'] > 25000].set_index('movie_title').sort_values(by='imdb_score', ascending=False).head(250)\n",
    "imdb_top250['rank']= imdb_top250['imdb_score'].rank(method='first', ascending=False)\n",
    "imdb_top250.head()"
   ]
  },
  {
   "cell_type": "code",
   "execution_count": 32,
   "metadata": {},
   "outputs": [
    {
     "data": {
      "image/png": "[encoded data removed]",
      "text/plain": [
       "<Figure size 432x288 with 1 Axes>"
      ]
     },
     "metadata": {},
     "output_type": "display_data"
    }
   ],
   "source": [
    "#### Extracting the foreign movies amongst the top 250\n",
    "top_nonEng_movies = imdb_top250[imdb_top250['language']!='English']\n",
    "\n",
    "sns.scatterplot(data=top_nonEng_movies, x=top_nonEng_movies[\"title_year\"], y=top_nonEng_movies['imdb_score'], hue=top_nonEng_movies[\"language\"], ci=None,linewidth = 2, palette=\"Set2\")\n",
    "plt.title(\"IMDB Scores of Non-English Films over the Years\")\n",
    "plt.legend(bbox_to_anchor=(1.05,1), loc=2, prop={'size': 15})\n",
    "plt.show()"
   ]
  },
  {
   "cell_type": "code",
   "execution_count": 33,
   "metadata": {},
   "outputs": [
    {
     "data": {
      "text/plain": [
       "(38, 15)"
      ]
     },
     "execution_count": 33,
     "metadata": {},
     "output_type": "execute_result"
    }
   ],
   "source": [
    "top_nonEng_movies.shape"
   ]
  },
  {
   "cell_type": "markdown",
   "metadata": {},
   "source": [
    "Here, we see how different foreign movies fared in terms of the imdb_score. An Italian movie ranked highest followed by a Japanees movie. However, it is worthy to keep in mind that interms of losses made (negative profit extrapolated earlier), foreign movies dominated the top 5 (for which Japanees movies were at number 2 and 3)."
   ]
  },
  {
   "cell_type": "markdown",
   "metadata": {},
   "source": [
    "#### Comparing movie profits and rating (imdb_score) with year "
   ]
  },
  {
   "cell_type": "code",
   "execution_count": 34,
   "metadata": {},
   "outputs": [
    {
     "data": {
      "image/png": "[encoded data removed]",
      "text/plain": [
       "<Figure size 432x288 with 1 Axes>"
      ]
     },
     "metadata": {},
     "output_type": "display_data"
    }
   ],
   "source": [
    "# Display the number of movies made per year\n",
    "df_eda['title_year'].value_counts()\n",
    "sns.countplot(x='title_year', data=df_eda)\n",
    "plt.title('Number of movies per year')\n",
    "plt.show()"
   ]
  },
  {
   "cell_type": "code",
   "execution_count": 35,
   "metadata": {},
   "outputs": [
    {
     "name": "stderr",
     "output_type": "stream",
     "text": [
      "C:\\Users\\User\\AppData\\Local\\Temp/ipykernel_10976/1101272068.py:2: FutureWarning: Indexing with multiple keys (implicitly converted to a tuple of keys) will be deprecated, use a list instead.\n",
      "  df_eda.groupby('title_year')['profit', 'imdb_score'].mean().sort_values(by= 'profit', ascending=False).head()\n"
     ]
    },
    {
     "data": {
      "text/html": [
       "<div>\n",
       "<style scoped>\n",
       "    .dataframe tbody tr th:only-of-type {\n",
       "        vertical-align: middle;\n",
       "    }\n",
       "\n",
       "    .dataframe tbody tr th {\n",
       "        vertical-align: top;\n",
       "    }\n",
       "\n",
       "    .dataframe thead th {\n",
       "        text-align: right;\n",
       "    }\n",
       "</style>\n",
       "<table border=\"1\" class=\"dataframe\">\n",
       "  <thead>\n",
       "    <tr style=\"text-align: right;\">\n",
       "      <th></th>\n",
       "      <th>profit</th>\n",
       "      <th>imdb_score</th>\n",
       "    </tr>\n",
       "    <tr>\n",
       "      <th>title_year</th>\n",
       "      <th></th>\n",
       "      <th></th>\n",
       "    </tr>\n",
       "  </thead>\n",
       "  <tbody>\n",
       "    <tr>\n",
       "      <th>1973.0</th>\n",
       "      <td>155.394000</td>\n",
       "      <td>7.750</td>\n",
       "    </tr>\n",
       "    <tr>\n",
       "      <th>1977.0</th>\n",
       "      <td>124.883916</td>\n",
       "      <td>7.375</td>\n",
       "    </tr>\n",
       "    <tr>\n",
       "      <th>1976.0</th>\n",
       "      <td>116.275247</td>\n",
       "      <td>8.100</td>\n",
       "    </tr>\n",
       "    <tr>\n",
       "      <th>1975.0</th>\n",
       "      <td>107.600000</td>\n",
       "      <td>8.700</td>\n",
       "    </tr>\n",
       "    <tr>\n",
       "      <th>1969.0</th>\n",
       "      <td>96.308900</td>\n",
       "      <td>8.100</td>\n",
       "    </tr>\n",
       "  </tbody>\n",
       "</table>\n",
       "</div>"
      ],
      "text/plain": [
       "                profit  imdb_score\n",
       "title_year                        \n",
       "1973.0      155.394000       7.750\n",
       "1977.0      124.883916       7.375\n",
       "1976.0      116.275247       8.100\n",
       "1975.0      107.600000       8.700\n",
       "1969.0       96.308900       8.100"
      ]
     },
     "execution_count": 35,
     "metadata": {},
     "output_type": "execute_result"
    }
   ],
   "source": [
    "# Find average profit and rating (imdb_score) of movies per year\n",
    "df_eda.groupby('title_year')['profit', 'imdb_score'].mean().sort_values(by= 'profit', ascending=False).head()"
   ]
  },
  {
   "cell_type": "code",
   "execution_count": 36,
   "metadata": {},
   "outputs": [
    {
     "data": {
      "text/plain": [
       "title_year\n",
       "1975.0    680041.0\n",
       "1968.0    427357.0\n",
       "1960.0    422432.0\n",
       "1976.0    375240.0\n",
       "1939.0    291875.0\n",
       "Name: num_voted_users, dtype: float64"
      ]
     },
     "execution_count": 36,
     "metadata": {},
     "output_type": "execute_result"
    }
   ],
   "source": [
    "# In which year was there the highest average voting\n",
    "df_eda.groupby('title_year')['num_voted_users'].mean().sort_values(ascending=False).head()"
   ]
  },
  {
   "cell_type": "markdown",
   "metadata": {},
   "source": [
    "Quite a few movies were produced in the 90's, and a vast majority of those few movies were highly rated and saw a huge voting by users. Compared to movie production in the 2000's, whcih have seen an upward surge, however on average, the yearly ratings of movie appears to be much lower than the 90's."
   ]
  },
  {
   "cell_type": "markdown",
   "metadata": {},
   "source": [
    "#### 2.6 Let's evaluate the genres\n",
    "Using a bar chart we see the different types genres for the movies in our dataset"
   ]
  },
  {
   "cell_type": "code",
   "execution_count": 37,
   "metadata": {},
   "outputs": [
    {
     "data": {
      "text/plain": [
       "519"
      ]
     },
     "execution_count": 37,
     "metadata": {},
     "output_type": "execute_result"
    }
   ],
   "source": [
    "# first, to know the number of unique categories under the genres column,\n",
    "df_eda['genres'].nunique()"
   ]
  },
  {
   "cell_type": "code",
   "execution_count": 38,
   "metadata": {},
   "outputs": [
    {
     "data": {
      "image/png": "[encoded data removed]",
      "text/plain": [
       "<Figure size 576x360 with 1 Axes>"
      ]
     },
     "metadata": {},
     "output_type": "display_data"
    }
   ],
   "source": [
    "# drawing the bar plot for the genre column\n",
    "# grouping the dataframe by \"genres\" column and then counting each category and displaying the first 20 genres \n",
    "# with the largest count\n",
    "y=df.groupby(\"genres\")['genres'].count().nlargest(20)\n",
    "x = y.index #the index(row labels) of the dataframe\n",
    " \n",
    "plt.figure(figsize=(8,5))\n",
    "ax = sns.barplot(x= y, y = x)\n",
    "ax.set(xlabel = 'Frequency') \n",
    "ax.set(title = 'Frequency of our top 20 genres') \n",
    "ax.set(ylabel = 'Genres') \n",
    "\n",
    "plt.show()"
   ]
  },
  {
   "cell_type": "markdown",
   "metadata": {},
   "source": [
    "From the chart above, most of the data from our dataframe (df_eda) were in the Comedy|Drama|Romance genre."
   ]
  },
  {
   "cell_type": "markdown",
   "metadata": {},
   "source": [
    "### 2.4.1 Find the most profiting movie genres within our budget (£1.5 million) that retained a high imdb_score\n",
    "To examine if any of these good film genres can be made within our budget, I filtered by a maximum 1500 000 and looked at the profit.\n",
    "\n",
    "From our earlier results, where we established a relationship of top profiting movies having and imdb_score of at least 7. Furthermore we will set our minimum profit to be above 0 (positive)."
   ]
  },
  {
   "cell_type": "code",
   "execution_count": 39,
   "metadata": {},
   "outputs": [
    {
     "data": {
      "text/html": [
       "<div>\n",
       "<style scoped>\n",
       "    .dataframe tbody tr th:only-of-type {\n",
       "        vertical-align: middle;\n",
       "    }\n",
       "\n",
       "    .dataframe tbody tr th {\n",
       "        vertical-align: top;\n",
       "    }\n",
       "\n",
       "    .dataframe thead th {\n",
       "        text-align: right;\n",
       "    }\n",
       "</style>\n",
       "<table border=\"1\" class=\"dataframe\">\n",
       "  <thead>\n",
       "    <tr style=\"text-align: right;\">\n",
       "      <th></th>\n",
       "      <th>imdb_score</th>\n",
       "      <th>budget</th>\n",
       "      <th>profit</th>\n",
       "      <th>rank</th>\n",
       "    </tr>\n",
       "    <tr>\n",
       "      <th>genres</th>\n",
       "      <th></th>\n",
       "      <th></th>\n",
       "      <th></th>\n",
       "      <th></th>\n",
       "    </tr>\n",
       "  </thead>\n",
       "  <tbody>\n",
       "    <tr>\n",
       "      <th>Documentary|History|Music</th>\n",
       "      <td>7.8</td>\n",
       "      <td>0.400000</td>\n",
       "      <td>6.357593</td>\n",
       "      <td>1.0</td>\n",
       "    </tr>\n",
       "    <tr>\n",
       "      <th>Action|Drama|Western</th>\n",
       "      <td>8.0</td>\n",
       "      <td>0.200000</td>\n",
       "      <td>3.300000</td>\n",
       "      <td>2.0</td>\n",
       "    </tr>\n",
       "    <tr>\n",
       "      <th>Biography|Crime|Documentary|History|Thriller</th>\n",
       "      <td>7.8</td>\n",
       "      <td>1.000000</td>\n",
       "      <td>1.957978</td>\n",
       "      <td>3.0</td>\n",
       "    </tr>\n",
       "    <tr>\n",
       "      <th>Biography|Documentary</th>\n",
       "      <td>7.2</td>\n",
       "      <td>0.000218</td>\n",
       "      <td>0.591796</td>\n",
       "      <td>4.0</td>\n",
       "    </tr>\n",
       "  </tbody>\n",
       "</table>\n",
       "</div>"
      ],
      "text/plain": [
       "                                              imdb_score    budget    profit  \\\n",
       "genres                                                                         \n",
       "Documentary|History|Music                            7.8  0.400000  6.357593   \n",
       "Action|Drama|Western                                 8.0  0.200000  3.300000   \n",
       "Biography|Crime|Documentary|History|Thriller         7.8  1.000000  1.957978   \n",
       "Biography|Documentary                                7.2  0.000218  0.591796   \n",
       "\n",
       "                                              rank  \n",
       "genres                                              \n",
       "Documentary|History|Music                      1.0  \n",
       "Action|Drama|Western                           2.0  \n",
       "Biography|Crime|Documentary|History|Thriller   3.0  \n",
       "Biography|Documentary                          4.0  "
      ]
     },
     "execution_count": 39,
     "metadata": {},
     "output_type": "execute_result"
    }
   ],
   "source": [
    "#set the maximum possible budget to £1500 000 i.e. £1.5 million\n",
    "\n",
    "max_budget = 1.5\n",
    "min_profit = 0 #max_budget * 0.5\n",
    "min_imdb_score=7\n",
    "\n",
    "pop_genres=df_eda.groupby('genres')[['imdb_score','budget', 'profit']].mean()\n",
    "#find the details of films with less than the maximum budget\n",
    "budget_genres = pop_genres[pop_genres['budget']<max_budget]\n",
    "budget_genres = budget_genres.sort_values('profit',ascending=False)\n",
    "#find the details of films with less than the maximum budget but greater than minimum profit\n",
    "budget_genres=budget_genres[budget_genres['profit']>=min_profit]\n",
    "#find the details of films with less than the maximum budget but greater than minimum profit and imdb_score\n",
    "budget_genres=budget_genres[budget_genres['imdb_score']>=min_imdb_score]\n",
    "#Create a new 'rank' column\n",
    "budget_genres['rank']=budget_genres['profit'].rank(method='first', ascending=False)\n",
    "budget_genres"
   ]
  },
  {
   "cell_type": "markdown",
   "metadata": {},
   "source": [
    "The result shows some well-rated genres identified within our budget that we could propose as better options to make good rated and highly profiting films.\n",
    "\n",
    "However, taking a closer look at the details from the top three genre ranking that met our criteria (of budget, profit and imdb_score), we can see that there is actually only one in rank 1 (Biography|Comedy|Drama|Romance), three films in rank 2 (Crime|Drama|Romance), only one movie in rank 3 (Biography|Documentary|Sport) and only one film in rank 4 (Documentary|History|Music).\n",
    "\n",
    "**Based on the number of films meeting this criteria, the inferences we can draw from this particular comparison are weak. Hence, let's drop the imbd_score criteria and look solely at profit to budget**"
   ]
  },
  {
   "cell_type": "markdown",
   "metadata": {},
   "source": [
    "#### 2.6.1 Find the most profiting combination of genres \n",
    "Asumming, of the genre set for each movie (separated by pipes (|)) only the first 2 are significant for any movie:\n",
    "- Let's extract the first two genres from the genre column and store them in two new columns - genre_1 and genre_2. Where a movie has only one genre, we extract the single genre into both columns, i.e. for such movies genre_1 = genre_2\n",
    "- Find out the most profiting combo of genres and store them in a new dataframe named **'prof_genre_combo'**"
   ]
  },
  {
   "cell_type": "code",
   "execution_count": 40,
   "metadata": {},
   "outputs": [],
   "source": [
    "df_budget=df_eda[df_eda['budget']<=1.5]\n",
    "TempGenre = df_budget.genres.str.split('|',expand=True).iloc[:,0:2]\n",
    "TempGenre.columns = ['genre_1', 'genre_2']\n",
    "TempGenre.genre_2.fillna(TempGenre.genre_1, inplace=True)\n",
    "\n",
    "#Combining the new genre columns with the df_eda dataframe\n",
    "df_eda_budget = pd.concat([df_eda,TempGenre], axis=1)"
   ]
  },
  {
   "cell_type": "code",
   "execution_count": 41,
   "metadata": {},
   "outputs": [
    {
     "data": {
      "text/plain": [
       "genre_1    genre_2 \n",
       "Drama      Sport       58.967601\n",
       "Adventure  Family      39.052600\n",
       "Horror     Horror      34.681165\n",
       "           Thriller    30.775468\n",
       "           Mystery     22.051994\n",
       "Name: profit, dtype: float64"
      ]
     },
     "execution_count": 41,
     "metadata": {},
     "output_type": "execute_result"
    }
   ],
   "source": [
    "prof_genre_combo = df_eda_budget.groupby(['genre_1', 'genre_2']).profit.mean().sort_values(ascending=False).head(5)\n",
    "prof_genre_combo"
   ]
  },
  {
   "cell_type": "code",
   "execution_count": 42,
   "metadata": {},
   "outputs": [
    {
     "data": {
      "text/html": [
       "<div>\n",
       "<style scoped>\n",
       "    .dataframe tbody tr th:only-of-type {\n",
       "        vertical-align: middle;\n",
       "    }\n",
       "\n",
       "    .dataframe tbody tr th {\n",
       "        vertical-align: top;\n",
       "    }\n",
       "\n",
       "    .dataframe thead th {\n",
       "        text-align: right;\n",
       "    }\n",
       "</style>\n",
       "<table border=\"1\" class=\"dataframe\">\n",
       "  <thead>\n",
       "    <tr style=\"text-align: right;\">\n",
       "      <th></th>\n",
       "      <th>genres</th>\n",
       "      <th>budget</th>\n",
       "      <th>profit</th>\n",
       "    </tr>\n",
       "    <tr>\n",
       "      <th>movie_title</th>\n",
       "      <th></th>\n",
       "      <th></th>\n",
       "      <th></th>\n",
       "    </tr>\n",
       "  </thead>\n",
       "  <tbody>\n",
       "    <tr>\n",
       "      <th>The Blair Witch Project</th>\n",
       "      <td>Horror</td>\n",
       "      <td>0.060000</td>\n",
       "      <td>140.470114</td>\n",
       "    </tr>\n",
       "    <tr>\n",
       "      <th>Rocky</th>\n",
       "      <td>Drama|Sport</td>\n",
       "      <td>0.960000</td>\n",
       "      <td>116.275247</td>\n",
       "    </tr>\n",
       "    <tr>\n",
       "      <th>American Graffiti</th>\n",
       "      <td>Comedy|Drama|Music</td>\n",
       "      <td>0.777000</td>\n",
       "      <td>114.223000</td>\n",
       "    </tr>\n",
       "    <tr>\n",
       "      <th>Napoleon Dynamite</th>\n",
       "      <td>Comedy</td>\n",
       "      <td>0.400000</td>\n",
       "      <td>44.140956</td>\n",
       "    </tr>\n",
       "    <tr>\n",
       "      <th>Benji</th>\n",
       "      <td>Adventure|Family|Romance</td>\n",
       "      <td>0.500000</td>\n",
       "      <td>39.052600</td>\n",
       "    </tr>\n",
       "    <tr>\n",
       "      <th>Fireproof</th>\n",
       "      <td>Drama|Romance</td>\n",
       "      <td>0.500000</td>\n",
       "      <td>32.951479</td>\n",
       "    </tr>\n",
       "    <tr>\n",
       "      <th>Psycho</th>\n",
       "      <td>Horror|Mystery|Thriller</td>\n",
       "      <td>0.806947</td>\n",
       "      <td>31.193053</td>\n",
       "    </tr>\n",
       "    <tr>\n",
       "      <th>The Texas Chain Saw Massacre</th>\n",
       "      <td>Horror|Thriller</td>\n",
       "      <td>0.083532</td>\n",
       "      <td>30.775468</td>\n",
       "    </tr>\n",
       "    <tr>\n",
       "      <th>Sling Blade</th>\n",
       "      <td>Drama</td>\n",
       "      <td>0.890000</td>\n",
       "      <td>23.585416</td>\n",
       "    </tr>\n",
       "    <tr>\n",
       "      <th>Friday the 13th Part 2</th>\n",
       "      <td>Horror|Mystery|Thriller</td>\n",
       "      <td>1.250000</td>\n",
       "      <td>17.850000</td>\n",
       "    </tr>\n",
       "  </tbody>\n",
       "</table>\n",
       "</div>"
      ],
      "text/plain": [
       "                                                 genres    budget      profit\n",
       "movie_title                                                                  \n",
       "The Blair Witch Project                          Horror  0.060000  140.470114\n",
       "Rocky                                       Drama|Sport  0.960000  116.275247\n",
       "American Graffiti                    Comedy|Drama|Music  0.777000  114.223000\n",
       "Napoleon Dynamite                                Comedy  0.400000   44.140956\n",
       "Benji                          Adventure|Family|Romance  0.500000   39.052600\n",
       "Fireproof                                 Drama|Romance  0.500000   32.951479\n",
       "Psycho                          Horror|Mystery|Thriller  0.806947   31.193053\n",
       "The Texas Chain Saw Massacre            Horror|Thriller  0.083532   30.775468\n",
       "Sling Blade                                       Drama  0.890000   23.585416\n",
       "Friday the 13th Part 2          Horror|Mystery|Thriller  1.250000   17.850000"
      ]
     },
     "execution_count": 42,
     "metadata": {},
     "output_type": "execute_result"
    }
   ],
   "source": [
    "df_budget.nlargest(10,'profit')[['movie_title','genres','budget','profit',]].set_index('movie_title')"
   ]
  },
  {
   "cell_type": "markdown",
   "metadata": {},
   "source": [
    "Six of the ten highest profitting movies meeting our budget criteria, all had horror in their genre. Thus a deeper look at the movies in the horror genre is shown below."
   ]
  },
  {
   "cell_type": "code",
   "execution_count": 43,
   "metadata": {},
   "outputs": [
    {
     "data": {
      "text/html": [
       "<div>\n",
       "<style scoped>\n",
       "    .dataframe tbody tr th:only-of-type {\n",
       "        vertical-align: middle;\n",
       "    }\n",
       "\n",
       "    .dataframe tbody tr th {\n",
       "        vertical-align: top;\n",
       "    }\n",
       "\n",
       "    .dataframe thead th {\n",
       "        text-align: right;\n",
       "    }\n",
       "</style>\n",
       "<table border=\"1\" class=\"dataframe\">\n",
       "  <thead>\n",
       "    <tr style=\"text-align: right;\">\n",
       "      <th></th>\n",
       "      <th>movie_title</th>\n",
       "      <th>title_year</th>\n",
       "      <th>genres</th>\n",
       "      <th>duration</th>\n",
       "      <th>director_name</th>\n",
       "      <th>actor_1</th>\n",
       "      <th>country</th>\n",
       "      <th>budget</th>\n",
       "      <th>gross</th>\n",
       "      <th>imdb_score</th>\n",
       "      <th>language</th>\n",
       "      <th>num_voted_users</th>\n",
       "      <th>num_critic_for_reviews</th>\n",
       "      <th>num_user_for_reviews</th>\n",
       "      <th>profit</th>\n",
       "    </tr>\n",
       "  </thead>\n",
       "  <tbody>\n",
       "    <tr>\n",
       "      <th>0</th>\n",
       "      <td>Stake Land</td>\n",
       "      <td>2010.0</td>\n",
       "      <td>Drama|Horror|Sci-Fi</td>\n",
       "      <td>98.0</td>\n",
       "      <td>Jim Mickle</td>\n",
       "      <td>Connor Paolo</td>\n",
       "      <td>USA</td>\n",
       "      <td>0.650000</td>\n",
       "      <td>0.018469</td>\n",
       "      <td>6.5</td>\n",
       "      <td>English</td>\n",
       "      <td>34263</td>\n",
       "      <td>215.0</td>\n",
       "      <td>141.0</td>\n",
       "      <td>-0.631531</td>\n",
       "    </tr>\n",
       "    <tr>\n",
       "      <th>1</th>\n",
       "      <td>Rubber</td>\n",
       "      <td>2010.0</td>\n",
       "      <td>Comedy|Fantasy|Horror</td>\n",
       "      <td>82.0</td>\n",
       "      <td>Quentin Dupieux</td>\n",
       "      <td>Haley Ramm</td>\n",
       "      <td>France</td>\n",
       "      <td>0.500000</td>\n",
       "      <td>0.098017</td>\n",
       "      <td>5.8</td>\n",
       "      <td>English</td>\n",
       "      <td>26185</td>\n",
       "      <td>230.0</td>\n",
       "      <td>170.0</td>\n",
       "      <td>-0.401983</td>\n",
       "    </tr>\n",
       "    <tr>\n",
       "      <th>2</th>\n",
       "      <td>Detention of the Dead</td>\n",
       "      <td>2012.0</td>\n",
       "      <td>Comedy|Horror</td>\n",
       "      <td>87.0</td>\n",
       "      <td>Alex Craig Mann</td>\n",
       "      <td>Justin Chon</td>\n",
       "      <td>USA</td>\n",
       "      <td>0.500000</td>\n",
       "      <td>0.001332</td>\n",
       "      <td>4.6</td>\n",
       "      <td>English</td>\n",
       "      <td>2038</td>\n",
       "      <td>29.0</td>\n",
       "      <td>20.0</td>\n",
       "      <td>-0.498668</td>\n",
       "    </tr>\n",
       "    <tr>\n",
       "      <th>3</th>\n",
       "      <td>Prison</td>\n",
       "      <td>1987.0</td>\n",
       "      <td>Crime|Drama|Horror|Thriller</td>\n",
       "      <td>102.0</td>\n",
       "      <td>Renny Harlin</td>\n",
       "      <td>Viggo Mortensen</td>\n",
       "      <td>USA</td>\n",
       "      <td>1.300000</td>\n",
       "      <td>0.354704</td>\n",
       "      <td>5.9</td>\n",
       "      <td>English</td>\n",
       "      <td>2705</td>\n",
       "      <td>68.0</td>\n",
       "      <td>38.0</td>\n",
       "      <td>-0.945296</td>\n",
       "    </tr>\n",
       "    <tr>\n",
       "      <th>4</th>\n",
       "      <td>Dead Snow</td>\n",
       "      <td>2009.0</td>\n",
       "      <td>Comedy|Horror</td>\n",
       "      <td>91.0</td>\n",
       "      <td>Tommy Wirkola</td>\n",
       "      <td>Bjørn Sundquist</td>\n",
       "      <td>Norway</td>\n",
       "      <td>0.800000</td>\n",
       "      <td>0.041709</td>\n",
       "      <td>6.4</td>\n",
       "      <td>Norwegian</td>\n",
       "      <td>54601</td>\n",
       "      <td>224.0</td>\n",
       "      <td>200.0</td>\n",
       "      <td>-0.758291</td>\n",
       "    </tr>\n",
       "    <tr>\n",
       "      <th>5</th>\n",
       "      <td>Pontypool</td>\n",
       "      <td>2008.0</td>\n",
       "      <td>Fantasy|Horror</td>\n",
       "      <td>95.0</td>\n",
       "      <td>Bruce McDonald</td>\n",
       "      <td>Stephen McHattie</td>\n",
       "      <td>Canada</td>\n",
       "      <td>1.500000</td>\n",
       "      <td>0.003478</td>\n",
       "      <td>6.7</td>\n",
       "      <td>English</td>\n",
       "      <td>22212</td>\n",
       "      <td>178.0</td>\n",
       "      <td>142.0</td>\n",
       "      <td>-1.496522</td>\n",
       "    </tr>\n",
       "    <tr>\n",
       "      <th>6</th>\n",
       "      <td>Incident at Loch Ness</td>\n",
       "      <td>2004.0</td>\n",
       "      <td>Adventure|Comedy|Horror</td>\n",
       "      <td>94.0</td>\n",
       "      <td>Zak Penn</td>\n",
       "      <td>Zak Penn</td>\n",
       "      <td>UK</td>\n",
       "      <td>1.400000</td>\n",
       "      <td>0.036830</td>\n",
       "      <td>6.6</td>\n",
       "      <td>English</td>\n",
       "      <td>3291</td>\n",
       "      <td>60.0</td>\n",
       "      <td>63.0</td>\n",
       "      <td>-1.363170</td>\n",
       "    </tr>\n",
       "    <tr>\n",
       "      <th>7</th>\n",
       "      <td>The Beyond</td>\n",
       "      <td>1981.0</td>\n",
       "      <td>Horror</td>\n",
       "      <td>82.0</td>\n",
       "      <td>Lucio Fulci</td>\n",
       "      <td>Catriona MacColl</td>\n",
       "      <td>Italy</td>\n",
       "      <td>0.400000</td>\n",
       "      <td>0.126387</td>\n",
       "      <td>6.9</td>\n",
       "      <td>Italian</td>\n",
       "      <td>14985</td>\n",
       "      <td>203.0</td>\n",
       "      <td>253.0</td>\n",
       "      <td>-0.273613</td>\n",
       "    </tr>\n",
       "    <tr>\n",
       "      <th>8</th>\n",
       "      <td>Psycho</td>\n",
       "      <td>1960.0</td>\n",
       "      <td>Horror|Mystery|Thriller</td>\n",
       "      <td>108.0</td>\n",
       "      <td>Alfred Hitchcock</td>\n",
       "      <td>Janet Leigh</td>\n",
       "      <td>USA</td>\n",
       "      <td>0.806947</td>\n",
       "      <td>32.000000</td>\n",
       "      <td>8.5</td>\n",
       "      <td>English</td>\n",
       "      <td>422432</td>\n",
       "      <td>290.0</td>\n",
       "      <td>1040.0</td>\n",
       "      <td>31.193053</td>\n",
       "    </tr>\n",
       "    <tr>\n",
       "      <th>9</th>\n",
       "      <td>The Blair Witch Project</td>\n",
       "      <td>1999.0</td>\n",
       "      <td>Horror</td>\n",
       "      <td>81.0</td>\n",
       "      <td>Daniel Myrick</td>\n",
       "      <td>Heather Donahue</td>\n",
       "      <td>USA</td>\n",
       "      <td>0.060000</td>\n",
       "      <td>140.530114</td>\n",
       "      <td>6.4</td>\n",
       "      <td>English</td>\n",
       "      <td>186786</td>\n",
       "      <td>360.0</td>\n",
       "      <td>3400.0</td>\n",
       "      <td>140.470114</td>\n",
       "    </tr>\n",
       "    <tr>\n",
       "      <th>10</th>\n",
       "      <td>The Texas Chain Saw Massacre</td>\n",
       "      <td>1974.0</td>\n",
       "      <td>Horror|Thriller</td>\n",
       "      <td>88.0</td>\n",
       "      <td>Tobe Hooper</td>\n",
       "      <td>Gunnar Hansen</td>\n",
       "      <td>USA</td>\n",
       "      <td>0.083532</td>\n",
       "      <td>30.859000</td>\n",
       "      <td>7.5</td>\n",
       "      <td>English</td>\n",
       "      <td>96410</td>\n",
       "      <td>277.0</td>\n",
       "      <td>826.0</td>\n",
       "      <td>30.775468</td>\n",
       "    </tr>\n",
       "    <tr>\n",
       "      <th>11</th>\n",
       "      <td>Eddie: The Sleepwalking Cannibal</td>\n",
       "      <td>2012.0</td>\n",
       "      <td>Comedy|Horror</td>\n",
       "      <td>83.0</td>\n",
       "      <td>Boris Rodriguez</td>\n",
       "      <td>Stephen McHattie</td>\n",
       "      <td>Canada</td>\n",
       "      <td>1.500000</td>\n",
       "      <td>0.001521</td>\n",
       "      <td>5.7</td>\n",
       "      <td>English</td>\n",
       "      <td>1231</td>\n",
       "      <td>56.0</td>\n",
       "      <td>10.0</td>\n",
       "      <td>-1.498479</td>\n",
       "    </tr>\n",
       "    <tr>\n",
       "      <th>12</th>\n",
       "      <td>Pink Flamingos</td>\n",
       "      <td>1972.0</td>\n",
       "      <td>Comedy|Crime|Horror</td>\n",
       "      <td>108.0</td>\n",
       "      <td>John Waters</td>\n",
       "      <td>Divine</td>\n",
       "      <td>USA</td>\n",
       "      <td>0.010000</td>\n",
       "      <td>0.180483</td>\n",
       "      <td>6.1</td>\n",
       "      <td>English</td>\n",
       "      <td>16792</td>\n",
       "      <td>73.0</td>\n",
       "      <td>183.0</td>\n",
       "      <td>0.170483</td>\n",
       "    </tr>\n",
       "    <tr>\n",
       "      <th>13</th>\n",
       "      <td>Poultrygeist: Night of the Chicken Dead</td>\n",
       "      <td>2006.0</td>\n",
       "      <td>Comedy|Horror|Musical</td>\n",
       "      <td>103.0</td>\n",
       "      <td>Lloyd Kaufman</td>\n",
       "      <td>John Karyus</td>\n",
       "      <td>USA</td>\n",
       "      <td>0.500000</td>\n",
       "      <td>0.023000</td>\n",
       "      <td>6.2</td>\n",
       "      <td>English</td>\n",
       "      <td>5931</td>\n",
       "      <td>88.0</td>\n",
       "      <td>58.0</td>\n",
       "      <td>-0.477000</td>\n",
       "    </tr>\n",
       "    <tr>\n",
       "      <th>14</th>\n",
       "      <td>Chernobyl Diaries</td>\n",
       "      <td>2012.0</td>\n",
       "      <td>Horror|Mystery|Sci-Fi|Thriller</td>\n",
       "      <td>86.0</td>\n",
       "      <td>Bradley Parker</td>\n",
       "      <td>Jesse McCartney</td>\n",
       "      <td>USA</td>\n",
       "      <td>1.000000</td>\n",
       "      <td>18.112929</td>\n",
       "      <td>5.0</td>\n",
       "      <td>English</td>\n",
       "      <td>52642</td>\n",
       "      <td>270.0</td>\n",
       "      <td>271.0</td>\n",
       "      <td>17.112929</td>\n",
       "    </tr>\n",
       "    <tr>\n",
       "      <th>15</th>\n",
       "      <td>Friday the 13th Part 2</td>\n",
       "      <td>1981.0</td>\n",
       "      <td>Horror|Mystery|Thriller</td>\n",
       "      <td>87.0</td>\n",
       "      <td>Steve Miner</td>\n",
       "      <td>Betsy Palmer</td>\n",
       "      <td>USA</td>\n",
       "      <td>1.250000</td>\n",
       "      <td>19.100000</td>\n",
       "      <td>6.1</td>\n",
       "      <td>English</td>\n",
       "      <td>39690</td>\n",
       "      <td>242.0</td>\n",
       "      <td>394.0</td>\n",
       "      <td>17.850000</td>\n",
       "    </tr>\n",
       "    <tr>\n",
       "      <th>16</th>\n",
       "      <td>The Innkeepers</td>\n",
       "      <td>2011.0</td>\n",
       "      <td>Horror</td>\n",
       "      <td>101.0</td>\n",
       "      <td>Ti West</td>\n",
       "      <td>Lena Dunham</td>\n",
       "      <td>USA</td>\n",
       "      <td>0.750000</td>\n",
       "      <td>0.077501</td>\n",
       "      <td>5.5</td>\n",
       "      <td>English</td>\n",
       "      <td>27260</td>\n",
       "      <td>292.0</td>\n",
       "      <td>247.0</td>\n",
       "      <td>-0.672499</td>\n",
       "    </tr>\n",
       "    <tr>\n",
       "      <th>17</th>\n",
       "      <td>The House of the Devil</td>\n",
       "      <td>2009.0</td>\n",
       "      <td>Horror</td>\n",
       "      <td>95.0</td>\n",
       "      <td>Ti West</td>\n",
       "      <td>Lena Dunham</td>\n",
       "      <td>USA</td>\n",
       "      <td>0.900000</td>\n",
       "      <td>0.100659</td>\n",
       "      <td>6.4</td>\n",
       "      <td>English</td>\n",
       "      <td>30160</td>\n",
       "      <td>238.0</td>\n",
       "      <td>193.0</td>\n",
       "      <td>-0.799341</td>\n",
       "    </tr>\n",
       "    <tr>\n",
       "      <th>18</th>\n",
       "      <td>The Beast from 20,000 Fathoms</td>\n",
       "      <td>1953.0</td>\n",
       "      <td>Adventure|Horror|Sci-Fi</td>\n",
       "      <td>80.0</td>\n",
       "      <td>Eugène Lourié</td>\n",
       "      <td>Kenneth Tobey</td>\n",
       "      <td>USA</td>\n",
       "      <td>0.210000</td>\n",
       "      <td>5.000000</td>\n",
       "      <td>6.7</td>\n",
       "      <td>English</td>\n",
       "      <td>4812</td>\n",
       "      <td>67.0</td>\n",
       "      <td>88.0</td>\n",
       "      <td>4.790000</td>\n",
       "    </tr>\n",
       "  </tbody>\n",
       "</table>\n",
       "</div>"
      ],
      "text/plain": [
       "                                 movie_title  title_year  \\\n",
       "0                                Stake Land       2010.0   \n",
       "1                                    Rubber       2010.0   \n",
       "2                     Detention of the Dead       2012.0   \n",
       "3                                    Prison       1987.0   \n",
       "4                                 Dead Snow       2009.0   \n",
       "5                                 Pontypool       2008.0   \n",
       "6                     Incident at Loch Ness       2004.0   \n",
       "7                                The Beyond       1981.0   \n",
       "8                                    Psycho       1960.0   \n",
       "9                   The Blair Witch Project       1999.0   \n",
       "10             The Texas Chain Saw Massacre       1974.0   \n",
       "11         Eddie: The Sleepwalking Cannibal       2012.0   \n",
       "12                           Pink Flamingos       1972.0   \n",
       "13  Poultrygeist: Night of the Chicken Dead       2006.0   \n",
       "14                        Chernobyl Diaries       2012.0   \n",
       "15                   Friday the 13th Part 2       1981.0   \n",
       "16                           The Innkeepers       2011.0   \n",
       "17                   The House of the Devil       2009.0   \n",
       "18            The Beast from 20,000 Fathoms       1953.0   \n",
       "\n",
       "                            genres  duration     director_name  \\\n",
       "0              Drama|Horror|Sci-Fi      98.0        Jim Mickle   \n",
       "1            Comedy|Fantasy|Horror      82.0   Quentin Dupieux   \n",
       "2                    Comedy|Horror      87.0   Alex Craig Mann   \n",
       "3      Crime|Drama|Horror|Thriller     102.0      Renny Harlin   \n",
       "4                    Comedy|Horror      91.0     Tommy Wirkola   \n",
       "5                   Fantasy|Horror      95.0    Bruce McDonald   \n",
       "6          Adventure|Comedy|Horror      94.0          Zak Penn   \n",
       "7                           Horror      82.0       Lucio Fulci   \n",
       "8          Horror|Mystery|Thriller     108.0  Alfred Hitchcock   \n",
       "9                           Horror      81.0     Daniel Myrick   \n",
       "10                 Horror|Thriller      88.0       Tobe Hooper   \n",
       "11                   Comedy|Horror      83.0   Boris Rodriguez   \n",
       "12             Comedy|Crime|Horror     108.0       John Waters   \n",
       "13           Comedy|Horror|Musical     103.0     Lloyd Kaufman   \n",
       "14  Horror|Mystery|Sci-Fi|Thriller      86.0    Bradley Parker   \n",
       "15         Horror|Mystery|Thriller      87.0       Steve Miner   \n",
       "16                          Horror     101.0           Ti West   \n",
       "17                          Horror      95.0           Ti West   \n",
       "18         Adventure|Horror|Sci-Fi      80.0     Eugène Lourié   \n",
       "\n",
       "             actor_1 country    budget       gross  imdb_score   language  \\\n",
       "0       Connor Paolo     USA  0.650000    0.018469         6.5    English   \n",
       "1         Haley Ramm  France  0.500000    0.098017         5.8    English   \n",
       "2        Justin Chon     USA  0.500000    0.001332         4.6    English   \n",
       "3    Viggo Mortensen     USA  1.300000    0.354704         5.9    English   \n",
       "4    Bjørn Sundquist  Norway  0.800000    0.041709         6.4  Norwegian   \n",
       "5   Stephen McHattie  Canada  1.500000    0.003478         6.7    English   \n",
       "6           Zak Penn      UK  1.400000    0.036830         6.6    English   \n",
       "7   Catriona MacColl   Italy  0.400000    0.126387         6.9    Italian   \n",
       "8        Janet Leigh     USA  0.806947   32.000000         8.5    English   \n",
       "9    Heather Donahue     USA  0.060000  140.530114         6.4    English   \n",
       "10     Gunnar Hansen     USA  0.083532   30.859000         7.5    English   \n",
       "11  Stephen McHattie  Canada  1.500000    0.001521         5.7    English   \n",
       "12            Divine     USA  0.010000    0.180483         6.1    English   \n",
       "13       John Karyus     USA  0.500000    0.023000         6.2    English   \n",
       "14   Jesse McCartney     USA  1.000000   18.112929         5.0    English   \n",
       "15      Betsy Palmer     USA  1.250000   19.100000         6.1    English   \n",
       "16       Lena Dunham     USA  0.750000    0.077501         5.5    English   \n",
       "17       Lena Dunham     USA  0.900000    0.100659         6.4    English   \n",
       "18     Kenneth Tobey     USA  0.210000    5.000000         6.7    English   \n",
       "\n",
       "    num_voted_users  num_critic_for_reviews  num_user_for_reviews      profit  \n",
       "0             34263                   215.0                 141.0   -0.631531  \n",
       "1             26185                   230.0                 170.0   -0.401983  \n",
       "2              2038                    29.0                  20.0   -0.498668  \n",
       "3              2705                    68.0                  38.0   -0.945296  \n",
       "4             54601                   224.0                 200.0   -0.758291  \n",
       "5             22212                   178.0                 142.0   -1.496522  \n",
       "6              3291                    60.0                  63.0   -1.363170  \n",
       "7             14985                   203.0                 253.0   -0.273613  \n",
       "8            422432                   290.0                1040.0   31.193053  \n",
       "9            186786                   360.0                3400.0  140.470114  \n",
       "10            96410                   277.0                 826.0   30.775468  \n",
       "11             1231                    56.0                  10.0   -1.498479  \n",
       "12            16792                    73.0                 183.0    0.170483  \n",
       "13             5931                    88.0                  58.0   -0.477000  \n",
       "14            52642                   270.0                 271.0   17.112929  \n",
       "15            39690                   242.0                 394.0   17.850000  \n",
       "16            27260                   292.0                 247.0   -0.672499  \n",
       "17            30160                   238.0                 193.0   -0.799341  \n",
       "18             4812                    67.0                  88.0    4.790000  "
      ]
     },
     "execution_count": 43,
     "metadata": {},
     "output_type": "execute_result"
    }
   ],
   "source": [
    "df_eda_horror=df_budget[df_budget['genres'].str.contains('Horror',case=False)]\n",
    "df_eda_horror.reset_index(drop=True,inplace=True)\n",
    "df_eda_horror"
   ]
  },
  {
   "cell_type": "markdown",
   "metadata": {},
   "source": [
    "We've been able to narrow down to about 19 horror movies meeting our budget and profit criteria."
   ]
  },
  {
   "cell_type": "markdown",
   "metadata": {},
   "source": [
    "## Hypothesis testing"
   ]
  },
  {
   "cell_type": "markdown",
   "metadata": {},
   "source": [
    "**Making a movie in the Horror genre category could be profitable**\n",
    "\n",
    "Hypothesis:\n",
    "If there is a direct proportionality between profit and the genre of movie, then making a horror movie within the £1.5 million budget will be most profitable.\n",
    "\n",
    "Independent Variable = Profit\n",
    "\n",
    "Dependent Variable = Horror (Genre)\n",
    "\n",
    "**Null hypothesis ( 𝐻0 ):** horror movies with a budget of £1.5 million would only make a profit of £10 million or less.\n",
    "\n",
    "**Alternative hypothesis ( 𝐻1 ):** horror movies with a budget of £1.5 million would make a profit of greater than £5 million.\n",
    "\n",
    "Using a predetermined significance level = 0.05%"
   ]
  },
  {
   "cell_type": "code",
   "execution_count": 44,
   "metadata": {},
   "outputs": [],
   "source": [
    "#Filtering the hypothesis data with my budget criteria\n",
    "df_horror = df_hyptst[(df_hyptst['genres'].str.contains('Horror',case=False, na=False)) & (df_hyptst.budget<1.5)]"
   ]
  },
  {
   "cell_type": "code",
   "execution_count": 45,
   "metadata": {},
   "outputs": [
    {
     "data": {
      "text/plain": [
       "22.428132478260864"
      ]
     },
     "execution_count": 45,
     "metadata": {},
     "output_type": "execute_result"
    }
   ],
   "source": [
    "# Sample mean for profit of horror films\n",
    "avg_horror = df_horror.profit.mean()\n",
    "avg_horror"
   ]
  },
  {
   "cell_type": "code",
   "execution_count": 46,
   "metadata": {},
   "outputs": [
    {
     "data": {
      "text/plain": [
       "26.13593329938784"
      ]
     },
     "execution_count": 46,
     "metadata": {},
     "output_type": "execute_result"
    }
   ],
   "source": [
    "# Sample standard deviation from the profit data of horror movies\n",
    "std_horror = df_horror.profit.std()\n",
    "std_horror"
   ]
  },
  {
   "cell_type": "code",
   "execution_count": 47,
   "metadata": {},
   "outputs": [
    {
     "data": {
      "text/plain": [
       "23"
      ]
     },
     "execution_count": 47,
     "metadata": {},
     "output_type": "execute_result"
    }
   ],
   "source": [
    "#Count of horror movies made within £1.5 million\n",
    "horror_count = df_horror['profit'].count()\n",
    "horror_count"
   ]
  },
  {
   "cell_type": "code",
   "execution_count": 48,
   "metadata": {},
   "outputs": [
    {
     "data": {
      "text/plain": [
       "2.2303817420047336"
      ]
     },
     "execution_count": 48,
     "metadata": {},
     "output_type": "execute_result"
    }
   ],
   "source": [
    "# Adopting the t-test (giving a sample size less than 30),\n",
    "population_mean=10\n",
    "t_value = (avg_horror - population_mean)/(std_horror/np.sqrt(horror_count - 1))\n",
    "t_value"
   ]
  },
  {
   "cell_type": "code",
   "execution_count": 49,
   "metadata": {},
   "outputs": [
    {
     "data": {
      "text/plain": [
       "0.01788280746150428"
      ]
     },
     "execution_count": 49,
     "metadata": {},
     "output_type": "execute_result"
    }
   ],
   "source": [
    "from scipy import stats\n",
    "p_value = 1-stats.t.cdf(t_value, horror_count)\n",
    "p_value"
   ]
  },
  {
   "cell_type": "code",
   "execution_count": 50,
   "metadata": {},
   "outputs": [
    {
     "name": "stdout",
     "output_type": "stream",
     "text": [
      "The average budget of horror films made within a budget of £1.5 million is  0.6234144347826086\n",
      "And the corresponding p-value from the t test is:  0.01788280746150428\n"
     ]
    }
   ],
   "source": [
    "print(\"The average budget of horror films made within a budget of £1.5 million is \",df_horror['budget'].mean())\n",
    "print(\"And the corresponding p-value from the t test is: \",p_value)"
   ]
  },
  {
   "cell_type": "code",
   "execution_count": 51,
   "metadata": {},
   "outputs": [
    {
     "data": {
      "text/plain": [
       "(11.12610739446565, 33.73015756205608)"
      ]
     },
     "execution_count": 51,
     "metadata": {},
     "output_type": "execute_result"
    }
   ],
   "source": [
    "# To calculate the confidence interval\n",
    "import scipy.stats as st\n",
    "st.t.interval(alpha=0.95, df=len(df_horror.profit)-1,loc=np.mean(df_horror.profit), scale=st.sem(df_horror.profit))"
   ]
  },
  {
   "cell_type": "markdown",
   "metadata": {},
   "source": [
    "My sample mean of 22.42 falls between this CI"
   ]
  },
  {
   "cell_type": "markdown",
   "metadata": {},
   "source": [
    "# Summary"
   ]
  },
  {
   "cell_type": "markdown",
   "metadata": {},
   "source": [
    "The main objective of this project was to find relevant movie genres fitting my budget criteria of less than 1.5 million GBP while keeping profits as an integral part of my analysis. To achieve this, I examined the imdb dataset provided.\n",
    "\n",
    "**What was done:**\n",
    "* **Data cleaning:** \n",
    "- involved dropping unused columns, dropping null entries and replacing empty entries (where necessary)\n",
    "- As preparation for our analysis, we introduced a profit column and went on to split the dataset (for EDA and hypothsis testing)\n",
    "* **EDA:**\n",
    "- we obtained the descriptive stats of the numeric varibles, ran a parametric correlation to get an overview, found the movies with highest profits and the associated director, top 250 movies with the highest imdb_score, years with highest profits/rating, top genres in terms of frequency, attempt to find the most profiting movie genres within our budget (£1.5 million) that made good profit and retained a high imdb_score, finding the most profiting combination of genres with the aim of extracting the most frequently occuring that meets our budget criteria.\n",
    "\n",
    "**What was found:**\n",
    "1. After the cleaning process, we retained over 76% of our rows and dropped about 50% of the columns (which were unused)\n",
    "2. The majority of the films have IMDB ratings ranging from 6.3 to 7.1.\n",
    "3. No correlation between gross, budget, profit and imdb_score. \n",
    "4. Budget and profit showed a highly negative correlation (>0.95).\n",
    "5. Directors that racked in good profits (top 15 directors) worked with at least 5 times our proposed budget\n",
    "6. imdb_score (movie rating) could not be satisfactorily used in classifying genre profitability within our available budget\n",
    "7. English is the most commonly used language in these films dataset.\n",
    "8. The most profitable genre of movie within our budget is the horror genre.\n",
    "\n",
    "\n",
    "From my hypothesis testing, with a p-value of 0.017 lesser than the predetermined significance level of 0.05, the null hypothesis can be rejected since there is a less than 5% chance that it would be true. The alternative hypothesis, according to which horror movies made a profit above £10 million on the £1.5 million budget can therefore be accepted.\n",
    "\n",
    "Based on the data analyses, I could recommend that the studio pursue making a film in the Horror genre. "
   ]
  },
  {
   "cell_type": "code",
   "execution_count": 2,
   "metadata": {},
   "outputs": [
    {
     "name": "stdout",
     "output_type": "stream",
     "text": [
      "Submission length is 912\n"
     ]
    }
   ],
   "source": [
    "import io\n",
    "from nbformat import current\n",
    "\n",
    "#filepath=\"/content/drive/My Drive/NLE Notebooks/assessment/assignment1.ipynb\"\n",
    "filepath=\"DSRM_Assignment2.ipynb\"\n",
    "question_count=437\n",
    "\n",
    "with io.open(filepath, 'r', encoding='utf-8') as f:\n",
    "    nb = current.read(f, 'json')\n",
    "\n",
    "word_count = 0\n",
    "for cell in nb.worksheets[0].cells:\n",
    "    if cell.cell_type == \"markdown\":\n",
    "        word_count += len(cell['source'].replace('#', '').lstrip().split(' '))\n",
    "print(\"Submission length is {}\".format(word_count-question_count))"
   ]
  },
  {
   "cell_type": "code",
   "execution_count": null,
   "metadata": {},
   "outputs": [],
   "source": []
  }
 ],
 "metadata": {
  "kernelspec": {
   "display_name": "Python 3 (ipykernel)",
   "language": "python",
   "name": "python3"
  },
  "language_info": {
   "codemirror_mode": {
    "name": "ipython",
    "version": 3
   },
   "file_extension": ".py",
   "mimetype": "text/x-python",
   "name": "python",
   "nbconvert_exporter": "python",
   "pygments_lexer": "ipython3",
   "version": "3.9.13"
  }
 },
 "nbformat": 4,
 "nbformat_minor": 2
}
